{
 "cells": [
  {
   "cell_type": "markdown",
   "metadata": {
    "id": "rDLVnZWUSXdy"
   },
   "source": [
    " # Settings"
   ]
  },
  {
   "cell_type": "code",
   "execution_count": 102,
   "metadata": {
    "id": "kGFDU0tfSWph"
   },
   "outputs": [],
   "source": [
    "import numpy as np\n",
    "import pandas as pd\n",
    "import matplotlib.pyplot as plt\n",
    "import seaborn as sns\n",
    "import scipy\n",
    "import scikit_posthocs as sp\n",
    "from pathlib import Path\n",
    "from scipy.stats import shapiro, wilcoxon, levene, fligner, kruskal"
   ]
  },
  {
   "cell_type": "code",
   "execution_count": 103,
   "metadata": {
    "id": "C5RXymXmwyIS"
   },
   "outputs": [],
   "source": [
    "CONFIGS_DIR = Path('config')\n",
    "FIGURES_DIR = Path('figures')\n",
    "\n",
    "if not FIGURES_DIR.exists():\n",
    "    FIGURES_DIR.mkdir()"
   ]
  },
  {
   "cell_type": "code",
   "execution_count": 104,
   "metadata": {},
   "outputs": [],
   "source": [
    "sns.set_theme(style=\"whitegrid\", context=\"paper\", palette=\"colorblind\", color_codes=True, font_scale=1.5)\n",
    "plt.style.use(CONFIGS_DIR / \"figures.mplstyle\")"
   ]
  },
  {
   "cell_type": "markdown",
   "metadata": {
    "id": "haGrQlkASauu"
   },
   "source": [
    "# Load results file"
   ]
  },
  {
   "cell_type": "code",
   "execution_count": 105,
   "metadata": {
    "id": "MEq4vFpGScRW"
   },
   "outputs": [],
   "source": [
    "df = pd.read_csv(\"data/measurements.csv\")"
   ]
  },
  {
   "cell_type": "code",
   "execution_count": 106,
   "metadata": {
    "colab": {
     "base_uri": "https://localhost:8080/"
    },
    "id": "nJLIc-dhOuEl",
    "outputId": "6c850a90-ff2c-43f3-c1de-7db5784092c9"
   },
   "outputs": [
    {
     "data": {
      "text/html": [
       "<div>\n",
       "<style scoped>\n",
       "    .dataframe tbody tr th:only-of-type {\n",
       "        vertical-align: middle;\n",
       "    }\n",
       "\n",
       "    .dataframe tbody tr th {\n",
       "        vertical-align: top;\n",
       "    }\n",
       "\n",
       "    .dataframe thead th {\n",
       "        text-align: right;\n",
       "    }\n",
       "</style>\n",
       "<table border=\"1\" class=\"dataframe\">\n",
       "  <thead>\n",
       "    <tr style=\"text-align: right;\">\n",
       "      <th></th>\n",
       "      <th>image_path</th>\n",
       "      <th>algorithm</th>\n",
       "      <th>K</th>\n",
       "      <th>previous_fen</th>\n",
       "      <th>true_fen</th>\n",
       "      <th>predicted_fen</th>\n",
       "      <th>true_move_uci</th>\n",
       "      <th>true_move</th>\n",
       "      <th>predicted_move_uci</th>\n",
       "      <th>predicted_move</th>\n",
       "      <th>...</th>\n",
       "      <th>pieces_black</th>\n",
       "      <th>legal_moves</th>\n",
       "      <th>prediction_time</th>\n",
       "      <th>energy_total_codecarbon</th>\n",
       "      <th>energy_cpu_codecarbon</th>\n",
       "      <th>energy_gpu</th>\n",
       "      <th>energy_ram</th>\n",
       "      <th>energy_co2</th>\n",
       "      <th>energy_cpu_amd</th>\n",
       "      <th>energy_total</th>\n",
       "    </tr>\n",
       "  </thead>\n",
       "  <tbody>\n",
       "    <tr>\n",
       "      <th>0</th>\n",
       "      <td>out/images\\match-20240630T213748\\move-17.png</td>\n",
       "      <td>IA</td>\n",
       "      <td>-1.0</td>\n",
       "      <td>r1q2rk1/1pp2ppp/p1np1n2/2b1p3/2P3b1/P1N1P1PP/1...</td>\n",
       "      <td>r2q1rk1/1pp2ppp/p1np1n2/2b1p3/2P3b1/P1N1P1PP/1...</td>\n",
       "      <td>r1q2rk1/1pp2ppp/p1np1n2/2b1p3/2P3b1/P1N1P1PP/1...</td>\n",
       "      <td>c8d8</td>\n",
       "      <td>Qd8</td>\n",
       "      <td>NaN</td>\n",
       "      <td>NaN</td>\n",
       "      <td>...</td>\n",
       "      <td>16</td>\n",
       "      <td>45</td>\n",
       "      <td>0.305875</td>\n",
       "      <td>46.052663</td>\n",
       "      <td>33.718580</td>\n",
       "      <td>3.087002</td>\n",
       "      <td>9.247081</td>\n",
       "      <td>0.000003</td>\n",
       "      <td>6.760266</td>\n",
       "      <td>19.094349</td>\n",
       "    </tr>\n",
       "    <tr>\n",
       "      <th>1</th>\n",
       "      <td>out/images\\match-20240630T200952\\move-56.png</td>\n",
       "      <td>IA</td>\n",
       "      <td>-1.0</td>\n",
       "      <td>1rb1nk2/p1r1np1p/Ppp3p1/8/1P1NP3/1N3qP1/4P2P/2...</td>\n",
       "      <td>1rb1nk2/p1r1np1p/Ppp3p1/8/1P1NP3/1N3PP1/7P/2RR...</td>\n",
       "      <td>1rb1nk2/p1r1np1p/Ppp3p1/8/1P1NP3/1N3PP1/7P/2RR...</td>\n",
       "      <td>e2f3</td>\n",
       "      <td>exf3</td>\n",
       "      <td>e2f3</td>\n",
       "      <td>exf3</td>\n",
       "      <td>...</td>\n",
       "      <td>13</td>\n",
       "      <td>29</td>\n",
       "      <td>0.255584</td>\n",
       "      <td>93.813694</td>\n",
       "      <td>73.822834</td>\n",
       "      <td>6.468005</td>\n",
       "      <td>13.522854</td>\n",
       "      <td>0.000006</td>\n",
       "      <td>5.239871</td>\n",
       "      <td>25.230730</td>\n",
       "    </tr>\n",
       "    <tr>\n",
       "      <th>2</th>\n",
       "      <td>out/images\\match-20240630T213748\\move-82.png</td>\n",
       "      <td>IA</td>\n",
       "      <td>-1.0</td>\n",
       "      <td>6b1/8/p5kp/5p1N/4R1P1/P3r2P/7K/2r1B3 w - - 1 41</td>\n",
       "      <td>6b1/8/p5kp/5p1N/6P1/P3R2P/7K/2r1B3 b - - 1 41</td>\n",
       "      <td>6b1/8/p5kp/5p1N/6P1/P3R2P/7K/2r1B3 b - - 0 41</td>\n",
       "      <td>e4e3</td>\n",
       "      <td>Rxe3</td>\n",
       "      <td>e4e3</td>\n",
       "      <td>Rxe3</td>\n",
       "      <td>...</td>\n",
       "      <td>7</td>\n",
       "      <td>28</td>\n",
       "      <td>0.267126</td>\n",
       "      <td>88.268908</td>\n",
       "      <td>69.724029</td>\n",
       "      <td>5.041004</td>\n",
       "      <td>13.503874</td>\n",
       "      <td>0.000005</td>\n",
       "      <td>4.858727</td>\n",
       "      <td>23.403605</td>\n",
       "    </tr>\n",
       "    <tr>\n",
       "      <th>3</th>\n",
       "      <td>out/images\\match-20240630T200952\\move-82.png</td>\n",
       "      <td>IA</td>\n",
       "      <td>-1.0</td>\n",
       "      <td>2R5/p1r4p/Pp1kBnp1/1p3p2/1n3P1P/1N4P1/4R3/6K1 ...</td>\n",
       "      <td>2R5/p2r3p/Pp1kBnp1/1p3p2/1n3P1P/1N4P1/4R3/6K1 ...</td>\n",
       "      <td>2r5/p6p/Pp1kBnp1/1p3p2/1n3P1P/1N4P1/4R3/6K1 w ...</td>\n",
       "      <td>c7d7</td>\n",
       "      <td>Rd7</td>\n",
       "      <td>c7c8</td>\n",
       "      <td>Rxc8</td>\n",
       "      <td>...</td>\n",
       "      <td>10</td>\n",
       "      <td>30</td>\n",
       "      <td>0.279235</td>\n",
       "      <td>90.380841</td>\n",
       "      <td>71.323206</td>\n",
       "      <td>5.178004</td>\n",
       "      <td>13.879630</td>\n",
       "      <td>0.000005</td>\n",
       "      <td>5.206433</td>\n",
       "      <td>24.264067</td>\n",
       "    </tr>\n",
       "    <tr>\n",
       "      <th>4</th>\n",
       "      <td>out/images\\match-20240630T213748\\move-25.png</td>\n",
       "      <td>IA</td>\n",
       "      <td>-1.0</td>\n",
       "      <td>r2q1rk1/1pp2ppp/pbnp1nb1/8/2PPBPP1/P1N4P/1P2N3...</td>\n",
       "      <td>r2q1rk1/1pp2ppp/pbnp1nb1/8/2PP1PP1/P1N4P/1P2N1...</td>\n",
       "      <td>r2q1rk1/1pp2ppp/pbnp1nB1/8/2PP1PP1/P1N4P/1P2N3...</td>\n",
       "      <td>e4g2</td>\n",
       "      <td>Bg2</td>\n",
       "      <td>e4g6</td>\n",
       "      <td>Bxg6</td>\n",
       "      <td>...</td>\n",
       "      <td>15</td>\n",
       "      <td>40</td>\n",
       "      <td>0.344056</td>\n",
       "      <td>92.116999</td>\n",
       "      <td>73.933352</td>\n",
       "      <td>3.667003</td>\n",
       "      <td>14.516644</td>\n",
       "      <td>0.000006</td>\n",
       "      <td>6.504124</td>\n",
       "      <td>24.687771</td>\n",
       "    </tr>\n",
       "    <tr>\n",
       "      <th>...</th>\n",
       "      <td>...</td>\n",
       "      <td>...</td>\n",
       "      <td>...</td>\n",
       "      <td>...</td>\n",
       "      <td>...</td>\n",
       "      <td>...</td>\n",
       "      <td>...</td>\n",
       "      <td>...</td>\n",
       "      <td>...</td>\n",
       "      <td>...</td>\n",
       "      <td>...</td>\n",
       "      <td>...</td>\n",
       "      <td>...</td>\n",
       "      <td>...</td>\n",
       "      <td>...</td>\n",
       "      <td>...</td>\n",
       "      <td>...</td>\n",
       "      <td>...</td>\n",
       "      <td>...</td>\n",
       "      <td>...</td>\n",
       "      <td>...</td>\n",
       "    </tr>\n",
       "    <tr>\n",
       "      <th>27995</th>\n",
       "      <td>out/images\\match-20240630T200952\\move-90.png</td>\n",
       "      <td>TK</td>\n",
       "      <td>10.0</td>\n",
       "      <td>2R5/p1rR3p/Ppk1Bnp1/1N3p2/1n3P1P/6P1/3p4/6K1 w...</td>\n",
       "      <td>2R5/p1r4p/Ppk1Bnp1/1N3p2/1n3P1P/6P1/3R4/6K1 w ...</td>\n",
       "      <td>2R5/p1r4p/Ppk1Bnp1/1N3p2/1n3P1P/6P1/3R4/6K1 b ...</td>\n",
       "      <td>d7d2</td>\n",
       "      <td>Rxd2</td>\n",
       "      <td>d7d2</td>\n",
       "      <td>Rxd2</td>\n",
       "      <td>...</td>\n",
       "      <td>10</td>\n",
       "      <td>39</td>\n",
       "      <td>0.610755</td>\n",
       "      <td>146.475364</td>\n",
       "      <td>115.425464</td>\n",
       "      <td>4.791004</td>\n",
       "      <td>26.258896</td>\n",
       "      <td>0.000009</td>\n",
       "      <td>11.592028</td>\n",
       "      <td>42.641928</td>\n",
       "    </tr>\n",
       "    <tr>\n",
       "      <th>27996</th>\n",
       "      <td>out/images\\match-20240630T213748\\move-65.png</td>\n",
       "      <td>TK</td>\n",
       "      <td>10.0</td>\n",
       "      <td>3Qr1b1/5ppk/p6p/4NP2/1B4P1/P6P/3r4/4RR1K b - -...</td>\n",
       "      <td>3rr1b1/5ppk/p6p/4NP2/1B4P1/P6P/8/4RR1K b - - 2 33</td>\n",
       "      <td>3rr1b1/5ppk/p6p/4NP2/1B4P1/P6P/8/4RR1K w - - 0 34</td>\n",
       "      <td>d2d8</td>\n",
       "      <td>Rdxd8</td>\n",
       "      <td>d2d8</td>\n",
       "      <td>Rdxd8</td>\n",
       "      <td>...</td>\n",
       "      <td>8</td>\n",
       "      <td>25</td>\n",
       "      <td>0.474717</td>\n",
       "      <td>149.062226</td>\n",
       "      <td>111.957861</td>\n",
       "      <td>11.905010</td>\n",
       "      <td>25.199355</td>\n",
       "      <td>0.000009</td>\n",
       "      <td>9.467970</td>\n",
       "      <td>46.572335</td>\n",
       "    </tr>\n",
       "    <tr>\n",
       "      <th>27997</th>\n",
       "      <td>out/images\\match-20240630T213748\\move-54.png</td>\n",
       "      <td>TK</td>\n",
       "      <td>10.0</td>\n",
       "      <td>r3r2k/4Bppb/p6p/4NPq1/5BP1/P4Q1P/8/R4R1K b - -...</td>\n",
       "      <td>r3r2k/4qppb/p6p/4NP2/5BP1/P4Q1P/8/R4R1K w - - ...</td>\n",
       "      <td>r3r2k/4qppb/p6p/4NP2/5BP1/P4Q1P/8/R4R1K w - - ...</td>\n",
       "      <td>g5e7</td>\n",
       "      <td>Qxe7</td>\n",
       "      <td>g5e7</td>\n",
       "      <td>Qxe7</td>\n",
       "      <td>...</td>\n",
       "      <td>9</td>\n",
       "      <td>26</td>\n",
       "      <td>0.444424</td>\n",
       "      <td>141.020946</td>\n",
       "      <td>111.027398</td>\n",
       "      <td>5.198004</td>\n",
       "      <td>24.795544</td>\n",
       "      <td>0.000009</td>\n",
       "      <td>8.550828</td>\n",
       "      <td>38.544377</td>\n",
       "    </tr>\n",
       "    <tr>\n",
       "      <th>27998</th>\n",
       "      <td>out/images\\match-20240630T213748\\move-54.png</td>\n",
       "      <td>TK</td>\n",
       "      <td>7.0</td>\n",
       "      <td>r3r2k/4Bppb/p6p/4NPq1/5BP1/P4Q1P/8/R4R1K b - -...</td>\n",
       "      <td>r3r2k/4qppb/p6p/4NP2/5BP1/P4Q1P/8/R4R1K w - - ...</td>\n",
       "      <td>r3r2k/4qppb/p6p/4NP2/5BP1/P4Q1P/8/R4R1K w - - ...</td>\n",
       "      <td>g5e7</td>\n",
       "      <td>Qxe7</td>\n",
       "      <td>g5e7</td>\n",
       "      <td>Qxe7</td>\n",
       "      <td>...</td>\n",
       "      <td>9</td>\n",
       "      <td>26</td>\n",
       "      <td>0.423053</td>\n",
       "      <td>139.120284</td>\n",
       "      <td>109.345922</td>\n",
       "      <td>5.099004</td>\n",
       "      <td>24.675358</td>\n",
       "      <td>0.000008</td>\n",
       "      <td>8.560971</td>\n",
       "      <td>38.335333</td>\n",
       "    </tr>\n",
       "    <tr>\n",
       "      <th>27999</th>\n",
       "      <td>out/images\\match-20240630T213748\\move-54.png</td>\n",
       "      <td>TK</td>\n",
       "      <td>9.0</td>\n",
       "      <td>r3r2k/4Bppb/p6p/4NPq1/5BP1/P4Q1P/8/R4R1K b - -...</td>\n",
       "      <td>r3r2k/4qppb/p6p/4NP2/5BP1/P4Q1P/8/R4R1K w - - ...</td>\n",
       "      <td>r3r2k/4qppb/p6p/4NP2/5BP1/P4Q1P/8/R4R1K w - - ...</td>\n",
       "      <td>g5e7</td>\n",
       "      <td>Qxe7</td>\n",
       "      <td>g5e7</td>\n",
       "      <td>Qxe7</td>\n",
       "      <td>...</td>\n",
       "      <td>9</td>\n",
       "      <td>26</td>\n",
       "      <td>0.453525</td>\n",
       "      <td>142.170166</td>\n",
       "      <td>110.399418</td>\n",
       "      <td>6.830005</td>\n",
       "      <td>24.940743</td>\n",
       "      <td>0.000009</td>\n",
       "      <td>8.940617</td>\n",
       "      <td>40.711365</td>\n",
       "    </tr>\n",
       "  </tbody>\n",
       "</table>\n",
       "<p>28000 rows × 24 columns</p>\n",
       "</div>"
      ],
      "text/plain": [
       "                                         image_path algorithm     K  \\\n",
       "0      out/images\\match-20240630T213748\\move-17.png        IA  -1.0   \n",
       "1      out/images\\match-20240630T200952\\move-56.png        IA  -1.0   \n",
       "2      out/images\\match-20240630T213748\\move-82.png        IA  -1.0   \n",
       "3      out/images\\match-20240630T200952\\move-82.png        IA  -1.0   \n",
       "4      out/images\\match-20240630T213748\\move-25.png        IA  -1.0   \n",
       "...                                             ...       ...   ...   \n",
       "27995  out/images\\match-20240630T200952\\move-90.png        TK  10.0   \n",
       "27996  out/images\\match-20240630T213748\\move-65.png        TK  10.0   \n",
       "27997  out/images\\match-20240630T213748\\move-54.png        TK  10.0   \n",
       "27998  out/images\\match-20240630T213748\\move-54.png        TK   7.0   \n",
       "27999  out/images\\match-20240630T213748\\move-54.png        TK   9.0   \n",
       "\n",
       "                                            previous_fen  \\\n",
       "0      r1q2rk1/1pp2ppp/p1np1n2/2b1p3/2P3b1/P1N1P1PP/1...   \n",
       "1      1rb1nk2/p1r1np1p/Ppp3p1/8/1P1NP3/1N3qP1/4P2P/2...   \n",
       "2        6b1/8/p5kp/5p1N/4R1P1/P3r2P/7K/2r1B3 w - - 1 41   \n",
       "3      2R5/p1r4p/Pp1kBnp1/1p3p2/1n3P1P/1N4P1/4R3/6K1 ...   \n",
       "4      r2q1rk1/1pp2ppp/pbnp1nb1/8/2PPBPP1/P1N4P/1P2N3...   \n",
       "...                                                  ...   \n",
       "27995  2R5/p1rR3p/Ppk1Bnp1/1N3p2/1n3P1P/6P1/3p4/6K1 w...   \n",
       "27996  3Qr1b1/5ppk/p6p/4NP2/1B4P1/P6P/3r4/4RR1K b - -...   \n",
       "27997  r3r2k/4Bppb/p6p/4NPq1/5BP1/P4Q1P/8/R4R1K b - -...   \n",
       "27998  r3r2k/4Bppb/p6p/4NPq1/5BP1/P4Q1P/8/R4R1K b - -...   \n",
       "27999  r3r2k/4Bppb/p6p/4NPq1/5BP1/P4Q1P/8/R4R1K b - -...   \n",
       "\n",
       "                                                true_fen  \\\n",
       "0      r2q1rk1/1pp2ppp/p1np1n2/2b1p3/2P3b1/P1N1P1PP/1...   \n",
       "1      1rb1nk2/p1r1np1p/Ppp3p1/8/1P1NP3/1N3PP1/7P/2RR...   \n",
       "2          6b1/8/p5kp/5p1N/6P1/P3R2P/7K/2r1B3 b - - 1 41   \n",
       "3      2R5/p2r3p/Pp1kBnp1/1p3p2/1n3P1P/1N4P1/4R3/6K1 ...   \n",
       "4      r2q1rk1/1pp2ppp/pbnp1nb1/8/2PP1PP1/P1N4P/1P2N1...   \n",
       "...                                                  ...   \n",
       "27995  2R5/p1r4p/Ppk1Bnp1/1N3p2/1n3P1P/6P1/3R4/6K1 w ...   \n",
       "27996  3rr1b1/5ppk/p6p/4NP2/1B4P1/P6P/8/4RR1K b - - 2 33   \n",
       "27997  r3r2k/4qppb/p6p/4NP2/5BP1/P4Q1P/8/R4R1K w - - ...   \n",
       "27998  r3r2k/4qppb/p6p/4NP2/5BP1/P4Q1P/8/R4R1K w - - ...   \n",
       "27999  r3r2k/4qppb/p6p/4NP2/5BP1/P4Q1P/8/R4R1K w - - ...   \n",
       "\n",
       "                                           predicted_fen true_move_uci  \\\n",
       "0      r1q2rk1/1pp2ppp/p1np1n2/2b1p3/2P3b1/P1N1P1PP/1...          c8d8   \n",
       "1      1rb1nk2/p1r1np1p/Ppp3p1/8/1P1NP3/1N3PP1/7P/2RR...          e2f3   \n",
       "2          6b1/8/p5kp/5p1N/6P1/P3R2P/7K/2r1B3 b - - 0 41          e4e3   \n",
       "3      2r5/p6p/Pp1kBnp1/1p3p2/1n3P1P/1N4P1/4R3/6K1 w ...          c7d7   \n",
       "4      r2q1rk1/1pp2ppp/pbnp1nB1/8/2PP1PP1/P1N4P/1P2N3...          e4g2   \n",
       "...                                                  ...           ...   \n",
       "27995  2R5/p1r4p/Ppk1Bnp1/1N3p2/1n3P1P/6P1/3R4/6K1 b ...          d7d2   \n",
       "27996  3rr1b1/5ppk/p6p/4NP2/1B4P1/P6P/8/4RR1K w - - 0 34          d2d8   \n",
       "27997  r3r2k/4qppb/p6p/4NP2/5BP1/P4Q1P/8/R4R1K w - - ...          g5e7   \n",
       "27998  r3r2k/4qppb/p6p/4NP2/5BP1/P4Q1P/8/R4R1K w - - ...          g5e7   \n",
       "27999  r3r2k/4qppb/p6p/4NP2/5BP1/P4Q1P/8/R4R1K w - - ...          g5e7   \n",
       "\n",
       "      true_move predicted_move_uci predicted_move  ...  pieces_black  \\\n",
       "0           Qd8                NaN            NaN  ...            16   \n",
       "1          exf3               e2f3           exf3  ...            13   \n",
       "2          Rxe3               e4e3           Rxe3  ...             7   \n",
       "3           Rd7               c7c8           Rxc8  ...            10   \n",
       "4           Bg2               e4g6           Bxg6  ...            15   \n",
       "...         ...                ...            ...  ...           ...   \n",
       "27995      Rxd2               d7d2           Rxd2  ...            10   \n",
       "27996     Rdxd8               d2d8          Rdxd8  ...             8   \n",
       "27997      Qxe7               g5e7           Qxe7  ...             9   \n",
       "27998      Qxe7               g5e7           Qxe7  ...             9   \n",
       "27999      Qxe7               g5e7           Qxe7  ...             9   \n",
       "\n",
       "      legal_moves  prediction_time  energy_total_codecarbon  \\\n",
       "0              45         0.305875                46.052663   \n",
       "1              29         0.255584                93.813694   \n",
       "2              28         0.267126                88.268908   \n",
       "3              30         0.279235                90.380841   \n",
       "4              40         0.344056                92.116999   \n",
       "...           ...              ...                      ...   \n",
       "27995          39         0.610755               146.475364   \n",
       "27996          25         0.474717               149.062226   \n",
       "27997          26         0.444424               141.020946   \n",
       "27998          26         0.423053               139.120284   \n",
       "27999          26         0.453525               142.170166   \n",
       "\n",
       "       energy_cpu_codecarbon  energy_gpu  energy_ram  energy_co2  \\\n",
       "0                  33.718580    3.087002    9.247081    0.000003   \n",
       "1                  73.822834    6.468005   13.522854    0.000006   \n",
       "2                  69.724029    5.041004   13.503874    0.000005   \n",
       "3                  71.323206    5.178004   13.879630    0.000005   \n",
       "4                  73.933352    3.667003   14.516644    0.000006   \n",
       "...                      ...         ...         ...         ...   \n",
       "27995             115.425464    4.791004   26.258896    0.000009   \n",
       "27996             111.957861   11.905010   25.199355    0.000009   \n",
       "27997             111.027398    5.198004   24.795544    0.000009   \n",
       "27998             109.345922    5.099004   24.675358    0.000008   \n",
       "27999             110.399418    6.830005   24.940743    0.000009   \n",
       "\n",
       "       energy_cpu_amd  energy_total  \n",
       "0            6.760266     19.094349  \n",
       "1            5.239871     25.230730  \n",
       "2            4.858727     23.403605  \n",
       "3            5.206433     24.264067  \n",
       "4            6.504124     24.687771  \n",
       "...               ...           ...  \n",
       "27995       11.592028     42.641928  \n",
       "27996        9.467970     46.572335  \n",
       "27997        8.550828     38.544377  \n",
       "27998        8.560971     38.335333  \n",
       "27999        8.940617     40.711365  \n",
       "\n",
       "[28000 rows x 24 columns]"
      ]
     },
     "execution_count": 106,
     "metadata": {},
     "output_type": "execute_result"
    }
   ],
   "source": [
    "df"
   ]
  },
  {
   "cell_type": "code",
   "execution_count": 107,
   "metadata": {
    "colab": {
     "base_uri": "https://localhost:8080/"
    },
    "id": "3nqYc6UmUHya",
    "outputId": "90871a8a-d2b4-406b-ce08-595ff035c69c"
   },
   "outputs": [
    {
     "data": {
      "text/plain": [
       "Index(['image_path', 'algorithm', 'K', 'previous_fen', 'true_fen',\n",
       "       'predicted_fen', 'true_move_uci', 'true_move', 'predicted_move_uci',\n",
       "       'predicted_move', 'correct', 'turn', 'correct_squares', 'pieces_white',\n",
       "       'pieces_black', 'legal_moves', 'prediction_time',\n",
       "       'energy_total_codecarbon', 'energy_cpu_codecarbon', 'energy_gpu',\n",
       "       'energy_ram', 'energy_co2', 'energy_cpu_amd', 'energy_total'],\n",
       "      dtype='object')"
      ]
     },
     "execution_count": 107,
     "metadata": {},
     "output_type": "execute_result"
    }
   ],
   "source": [
    "df.columns"
   ]
  },
  {
   "cell_type": "markdown",
   "metadata": {
    "id": "Sa9qTOiYB_YY"
   },
   "source": [
    "# Initial preprocessing:"
   ]
  },
  {
   "cell_type": "markdown",
   "metadata": {
    "id": "UTFgBK6GWeM6"
   },
   "source": [
    "- Rename column of CPU: This is to ensure that both the code of Codecarbon and the code of AMD uProf work well here in terms of having the same column names\n",
    "\n",
    "- Define `algorithms` and `Ks` variables\n",
    "\n",
    "- add a column `order` to order algorithms in chronological order"
   ]
  },
  {
   "cell_type": "code",
   "execution_count": 108,
   "metadata": {},
   "outputs": [],
   "source": [
    "if 'energy_cpu_amd' in df.columns:\n",
    "  df['energy_cpu'] = df['energy_cpu_amd']\n",
    "else:\n",
    "  df['energy_cpu'] = df['energy_cpu_codecarbon']"
   ]
  },
  {
   "cell_type": "code",
   "execution_count": 109,
   "metadata": {
    "colab": {
     "base_uri": "https://localhost:8080/"
    },
    "id": "FsbSakxqyE2t",
    "outputId": "b6088930-f3fb-4ae2-ce0f-e022de45d387"
   },
   "outputs": [
    {
     "data": {
      "text/plain": [
       "array(['IA', 'CPA', 'CPS', 'SD', 'ESD', 'TK'], dtype=object)"
      ]
     },
     "execution_count": 109,
     "metadata": {},
     "output_type": "execute_result"
    }
   ],
   "source": [
    "df.algorithm.unique()"
   ]
  },
  {
   "cell_type": "code",
   "execution_count": 110,
   "metadata": {
    "colab": {
     "base_uri": "https://localhost:8080/"
    },
    "id": "d0wx2yMUf2HE",
    "outputId": "484482be-94f3-4d64-9a62-8109b9a53747"
   },
   "outputs": [
    {
     "data": {
      "text/plain": [
       "array(['CPA', 'CPS', 'ESD', 'IA', 'SD', 'TK'], dtype=object)"
      ]
     },
     "execution_count": 110,
     "metadata": {},
     "output_type": "execute_result"
    }
   ],
   "source": [
    "algorithms = np.unique(df.algorithm)\n",
    "algorithms"
   ]
  },
  {
   "cell_type": "code",
   "execution_count": 111,
   "metadata": {
    "colab": {
     "base_uri": "https://localhost:8080/"
    },
    "id": "OHEPVYuXlEii",
    "outputId": "0e2ae8cb-e212-4583-8efb-047304d88163"
   },
   "outputs": [
    {
     "data": {
      "text/plain": [
       "array([ 2.,  3.,  4.,  5.,  6.,  7.,  8.,  9., 10.])"
      ]
     },
     "execution_count": 111,
     "metadata": {},
     "output_type": "execute_result"
    }
   ],
   "source": [
    "Ks = np.unique(df[df.algorithm==\"TK\"].K)\n",
    "Ks"
   ]
  },
  {
   "cell_type": "code",
   "execution_count": 112,
   "metadata": {
    "colab": {
     "base_uri": "https://localhost:8080/"
    },
    "id": "pzcCZpL-ttxf",
    "outputId": "b2e8c30e-002b-4c7b-be2c-98f235ef7461"
   },
   "outputs": [
    {
     "data": {
      "text/plain": [
       "array(['IA', 'CPA', 'CPS', 'SD', 'ESD', 'TK2', 'TK3', 'TK4', 'TK5', 'TK6',\n",
       "       'TK7', 'TK8', 'TK9', 'TK10'], dtype=object)"
      ]
     },
     "execution_count": 112,
     "metadata": {},
     "output_type": "execute_result"
    }
   ],
   "source": [
    "df['alg_K'] = df['algorithm'] + df['K'].apply(lambda x: str(int(x)) if x != -1 else \"\") #\n",
    "df['alg_K'].unique()"
   ]
  },
  {
   "cell_type": "code",
   "execution_count": 113,
   "metadata": {
    "id": "UbDQJ8m_VA3_"
   },
   "outputs": [],
   "source": [
    "order_algorithm = {\n",
    "    'IA':0, 'CPA':1, 'CPS':2, 'TK':3, 'SD':4, 'ESD':5,\n",
    "    'TK1':3.01, 'TK2':3.02, 'TK3':3.03, 'TK4':3.04, 'TK5':3.05, 'TK6':3.06,\n",
    "    'TK7':3.07, 'TK8':3.08, 'TK9':3.09, 'TK10':3.10, 'TK11':3.11, 'TK12':3.12,\n",
    "    'TK13':3.13, 'TK14':3.14, 'TK15':3.15, 'TK16':3.16\n",
    "    }\n",
    "def sort_algorithm(x):\n",
    "  return x.map(order_algorithm)\n",
    "\n",
    "df = df.sort_values(by=['alg_K'], key=sort_algorithm)"
   ]
  },
  {
   "cell_type": "markdown",
   "metadata": {
    "id": "6osdGaxymzZ5"
   },
   "source": [
    "# Univariate analysis"
   ]
  },
  {
   "cell_type": "markdown",
   "metadata": {
    "id": "YZrvbrWmG_70"
   },
   "source": [
    "## System accuracy"
   ]
  },
  {
   "cell_type": "code",
   "execution_count": 114,
   "metadata": {
    "colab": {
     "base_uri": "https://localhost:8080/",
     "height": 335
    },
    "id": "mb7qSWq4HBm3",
    "outputId": "2e76f334-6297-4da1-fe09-1be2eada9cb5"
   },
   "outputs": [
    {
     "data": {
      "text/plain": [
       "algorithm\n",
       "CPA    0.794500\n",
       "CPS    0.968500\n",
       "ESD    0.000000\n",
       "IA     0.786000\n",
       "SD     0.000000\n",
       "TK     0.968444\n",
       "Name: correct, dtype: float64"
      ]
     },
     "execution_count": 114,
     "metadata": {},
     "output_type": "execute_result"
    }
   ],
   "source": [
    "df.groupby('algorithm').correct.mean()"
   ]
  },
  {
   "cell_type": "code",
   "execution_count": 115,
   "metadata": {
    "colab": {
     "base_uri": "https://localhost:8080/",
     "height": 397
    },
    "id": "jnHavV9aHOKy",
    "outputId": "e245df1e-37e4-4b6d-84a2-a2381e0c1c2b"
   },
   "outputs": [
    {
     "data": {
      "text/plain": [
       "algorithm  K   \n",
       "TK         2.0     0.9680\n",
       "           3.0     0.9685\n",
       "           4.0     0.9685\n",
       "           5.0     0.9685\n",
       "           6.0     0.9685\n",
       "           7.0     0.9685\n",
       "           8.0     0.9685\n",
       "           9.0     0.9685\n",
       "           10.0    0.9685\n",
       "Name: correct, dtype: float64"
      ]
     },
     "execution_count": 115,
     "metadata": {},
     "output_type": "execute_result"
    }
   ],
   "source": [
    "df.query(\"K > 0\").groupby(['algorithm', 'K']).correct.mean()"
   ]
  },
  {
   "cell_type": "code",
   "execution_count": 116,
   "metadata": {
    "colab": {
     "base_uri": "https://localhost:8080/",
     "height": 585
    },
    "id": "uWEN2qzSLNAF",
    "outputId": "c1347555-4421-4c02-84f3-7959b827ac10"
   },
   "outputs": [
    {
     "data": {
      "text/plain": [
       "alg_K\n",
       "CPA     0.7945\n",
       "CPS     0.9685\n",
       "ESD     0.0000\n",
       "IA      0.7860\n",
       "SD      0.0000\n",
       "TK10    0.9685\n",
       "TK2     0.9680\n",
       "TK3     0.9685\n",
       "TK4     0.9685\n",
       "TK5     0.9685\n",
       "TK6     0.9685\n",
       "TK7     0.9685\n",
       "TK8     0.9685\n",
       "TK9     0.9685\n",
       "Name: correct, dtype: float64"
      ]
     },
     "execution_count": 116,
     "metadata": {},
     "output_type": "execute_result"
    }
   ],
   "source": [
    "df.groupby('alg_K').correct.mean()"
   ]
  },
  {
   "cell_type": "code",
   "execution_count": 117,
   "metadata": {
    "colab": {
     "base_uri": "https://localhost:8080/",
     "height": 522
    },
    "id": "wqQPK70KSHDz",
    "outputId": "23a6b3e5-6c9f-4445-a7b4-39cf14408f52"
   },
   "outputs": [
    {
     "data": {
      "image/png": "[encoded data removed]",
      "text/plain": [
       "<Figure size 1200x600 with 1 Axes>"
      ]
     },
     "metadata": {},
     "output_type": "display_data"
    }
   ],
   "source": [
    "#plt.figure(figsize=(15, 8))\n",
    "plt.figure(figsize=(12, 6))\n",
    "plt.rcParams.update({'font.size': 10}) # 10 , 12\n",
    "d = df.groupby('alg_K').correct.mean().sort_index(key = sort_algorithm)\n",
    "p = plt.bar(d.index, list(d))\n",
    "plt.ylabel(\"System accuracy\")\n",
    "labels = [\"{x:,.2f}\".format(x = i*100)+\"%\" for i in d]\n",
    "plt.bar_label(p, labels, padding = 2)\n",
    "plt.savefig(FIGURES_DIR / \"accB_algK_v2\")"
   ]
  },
  {
   "cell_type": "code",
   "execution_count": 118,
   "metadata": {
    "colab": {
     "base_uri": "https://localhost:8080/",
     "height": 456
    },
    "id": "w9V5-zcb30Vt",
    "outputId": "8eb019d4-4ed3-46d6-a778-5352a5d2b679"
   },
   "outputs": [
    {
     "data": {
      "image/png": "[encoded data removed]",
      "text/plain": [
       "<Figure size 640x480 with 1 Axes>"
      ]
     },
     "metadata": {},
     "output_type": "display_data"
    }
   ],
   "source": [
    "d = df.groupby('alg_K').correct.mean()\n",
    "d = d[d > 0.9]\n",
    "d.sort_index(key = sort_algorithm).plot(kind=\"bar\", ylabel = \"System accuracy\", xlabel=\"\", ylim = (0.96, 0.97)).get_figure().savefig(\n",
    "    FIGURES_DIR / \"accB_algK_filtered\")"
   ]
  },
  {
   "cell_type": "markdown",
   "metadata": {
    "id": "9q-1cWXzfotW"
   },
   "source": [
    "## Square accuracy"
   ]
  },
  {
   "cell_type": "code",
   "execution_count": 121,
   "metadata": {
    "colab": {
     "base_uri": "https://localhost:8080/",
     "height": 582
    },
    "id": "i-eKpKsgAc5D",
    "outputId": "5898d244-8ed9-493d-e885-f74ec72ffff2"
   },
   "outputs": [
    {
     "data": {
      "text/html": [
       "<div>\n",
       "<style scoped>\n",
       "    .dataframe tbody tr th:only-of-type {\n",
       "        vertical-align: middle;\n",
       "    }\n",
       "\n",
       "    .dataframe tbody tr th {\n",
       "        vertical-align: top;\n",
       "    }\n",
       "\n",
       "    .dataframe thead tr th {\n",
       "        text-align: left;\n",
       "    }\n",
       "\n",
       "    .dataframe thead tr:last-of-type th {\n",
       "        text-align: right;\n",
       "    }\n",
       "</style>\n",
       "<table border=\"1\" class=\"dataframe\">\n",
       "  <thead>\n",
       "    <tr>\n",
       "      <th></th>\n",
       "      <th colspan=\"3\" halign=\"left\">correct_squares</th>\n",
       "      <th>accuracy median</th>\n",
       "      <th>accuracy mean</th>\n",
       "      <th>accuracy std</th>\n",
       "    </tr>\n",
       "    <tr>\n",
       "      <th></th>\n",
       "      <th>median</th>\n",
       "      <th>mean</th>\n",
       "      <th>std</th>\n",
       "      <th></th>\n",
       "      <th></th>\n",
       "      <th></th>\n",
       "    </tr>\n",
       "    <tr>\n",
       "      <th>alg_K</th>\n",
       "      <th></th>\n",
       "      <th></th>\n",
       "      <th></th>\n",
       "      <th></th>\n",
       "      <th></th>\n",
       "      <th></th>\n",
       "    </tr>\n",
       "  </thead>\n",
       "  <tbody>\n",
       "    <tr>\n",
       "      <th>CPA</th>\n",
       "      <td>64.0</td>\n",
       "      <td>63.5720</td>\n",
       "      <td>0.860341</td>\n",
       "      <td>1.000000</td>\n",
       "      <td>0.993313</td>\n",
       "      <td>0.013443</td>\n",
       "    </tr>\n",
       "    <tr>\n",
       "      <th>CPS</th>\n",
       "      <td>64.0</td>\n",
       "      <td>63.9315</td>\n",
       "      <td>0.392281</td>\n",
       "      <td>1.000000</td>\n",
       "      <td>0.998930</td>\n",
       "      <td>0.006129</td>\n",
       "    </tr>\n",
       "    <tr>\n",
       "      <th>ESD</th>\n",
       "      <td>51.0</td>\n",
       "      <td>51.6765</td>\n",
       "      <td>3.770538</td>\n",
       "      <td>0.796875</td>\n",
       "      <td>0.807445</td>\n",
       "      <td>0.058915</td>\n",
       "    </tr>\n",
       "    <tr>\n",
       "      <th>IA</th>\n",
       "      <td>64.0</td>\n",
       "      <td>63.5640</td>\n",
       "      <td>0.844548</td>\n",
       "      <td>1.000000</td>\n",
       "      <td>0.993188</td>\n",
       "      <td>0.013196</td>\n",
       "    </tr>\n",
       "    <tr>\n",
       "      <th>SD</th>\n",
       "      <td>46.0</td>\n",
       "      <td>45.7965</td>\n",
       "      <td>4.406563</td>\n",
       "      <td>0.718750</td>\n",
       "      <td>0.715570</td>\n",
       "      <td>0.068853</td>\n",
       "    </tr>\n",
       "    <tr>\n",
       "      <th>TK10</th>\n",
       "      <td>64.0</td>\n",
       "      <td>63.9315</td>\n",
       "      <td>0.392281</td>\n",
       "      <td>1.000000</td>\n",
       "      <td>0.998930</td>\n",
       "      <td>0.006129</td>\n",
       "    </tr>\n",
       "    <tr>\n",
       "      <th>TK2</th>\n",
       "      <td>64.0</td>\n",
       "      <td>63.9315</td>\n",
       "      <td>0.387147</td>\n",
       "      <td>1.000000</td>\n",
       "      <td>0.998930</td>\n",
       "      <td>0.006049</td>\n",
       "    </tr>\n",
       "    <tr>\n",
       "      <th>TK3</th>\n",
       "      <td>64.0</td>\n",
       "      <td>63.9315</td>\n",
       "      <td>0.392281</td>\n",
       "      <td>1.000000</td>\n",
       "      <td>0.998930</td>\n",
       "      <td>0.006129</td>\n",
       "    </tr>\n",
       "    <tr>\n",
       "      <th>TK4</th>\n",
       "      <td>64.0</td>\n",
       "      <td>63.9315</td>\n",
       "      <td>0.392281</td>\n",
       "      <td>1.000000</td>\n",
       "      <td>0.998930</td>\n",
       "      <td>0.006129</td>\n",
       "    </tr>\n",
       "    <tr>\n",
       "      <th>TK5</th>\n",
       "      <td>64.0</td>\n",
       "      <td>63.9315</td>\n",
       "      <td>0.392281</td>\n",
       "      <td>1.000000</td>\n",
       "      <td>0.998930</td>\n",
       "      <td>0.006129</td>\n",
       "    </tr>\n",
       "    <tr>\n",
       "      <th>TK6</th>\n",
       "      <td>64.0</td>\n",
       "      <td>63.9315</td>\n",
       "      <td>0.392281</td>\n",
       "      <td>1.000000</td>\n",
       "      <td>0.998930</td>\n",
       "      <td>0.006129</td>\n",
       "    </tr>\n",
       "    <tr>\n",
       "      <th>TK7</th>\n",
       "      <td>64.0</td>\n",
       "      <td>63.9315</td>\n",
       "      <td>0.392281</td>\n",
       "      <td>1.000000</td>\n",
       "      <td>0.998930</td>\n",
       "      <td>0.006129</td>\n",
       "    </tr>\n",
       "    <tr>\n",
       "      <th>TK8</th>\n",
       "      <td>64.0</td>\n",
       "      <td>63.9315</td>\n",
       "      <td>0.392281</td>\n",
       "      <td>1.000000</td>\n",
       "      <td>0.998930</td>\n",
       "      <td>0.006129</td>\n",
       "    </tr>\n",
       "    <tr>\n",
       "      <th>TK9</th>\n",
       "      <td>64.0</td>\n",
       "      <td>63.9315</td>\n",
       "      <td>0.392281</td>\n",
       "      <td>1.000000</td>\n",
       "      <td>0.998930</td>\n",
       "      <td>0.006129</td>\n",
       "    </tr>\n",
       "  </tbody>\n",
       "</table>\n",
       "</div>"
      ],
      "text/plain": [
       "      correct_squares                    accuracy median accuracy mean  \\\n",
       "               median     mean       std                                 \n",
       "alg_K                                                                    \n",
       "CPA              64.0  63.5720  0.860341        1.000000      0.993313   \n",
       "CPS              64.0  63.9315  0.392281        1.000000      0.998930   \n",
       "ESD              51.0  51.6765  3.770538        0.796875      0.807445   \n",
       "IA               64.0  63.5640  0.844548        1.000000      0.993188   \n",
       "SD               46.0  45.7965  4.406563        0.718750      0.715570   \n",
       "TK10             64.0  63.9315  0.392281        1.000000      0.998930   \n",
       "TK2              64.0  63.9315  0.387147        1.000000      0.998930   \n",
       "TK3              64.0  63.9315  0.392281        1.000000      0.998930   \n",
       "TK4              64.0  63.9315  0.392281        1.000000      0.998930   \n",
       "TK5              64.0  63.9315  0.392281        1.000000      0.998930   \n",
       "TK6              64.0  63.9315  0.392281        1.000000      0.998930   \n",
       "TK7              64.0  63.9315  0.392281        1.000000      0.998930   \n",
       "TK8              64.0  63.9315  0.392281        1.000000      0.998930   \n",
       "TK9              64.0  63.9315  0.392281        1.000000      0.998930   \n",
       "\n",
       "      accuracy std  \n",
       "                    \n",
       "alg_K               \n",
       "CPA       0.013443  \n",
       "CPS       0.006129  \n",
       "ESD       0.058915  \n",
       "IA        0.013196  \n",
       "SD        0.068853  \n",
       "TK10      0.006129  \n",
       "TK2       0.006049  \n",
       "TK3       0.006129  \n",
       "TK4       0.006129  \n",
       "TK5       0.006129  \n",
       "TK6       0.006129  \n",
       "TK7       0.006129  \n",
       "TK8       0.006129  \n",
       "TK9       0.006129  "
      ]
     },
     "execution_count": 121,
     "metadata": {},
     "output_type": "execute_result"
    }
   ],
   "source": [
    "# overall model accuracy:\n",
    "x = df.groupby(\"alg_K\").agg({'correct_squares':['median', 'mean', 'std']})\n",
    "x['accuracy median'] = x.correct_squares['median'] / 64\n",
    "x['accuracy mean'] = x.correct_squares['mean'] / 64\n",
    "x['accuracy std'] = x.correct_squares['std'] / 64\n",
    "x"
   ]
  },
  {
   "cell_type": "code",
   "execution_count": 120,
   "metadata": {
    "colab": {
     "base_uri": "https://localhost:8080/",
     "height": 551
    },
    "id": "4nUpDXG6Bg6B",
    "outputId": "0d8b1f11-1654-41e4-b70d-8af9bf3889bc"
   },
   "outputs": [
    {
     "data": {
      "text/html": [
       "<div>\n",
       "<style scoped>\n",
       "    .dataframe tbody tr th:only-of-type {\n",
       "        vertical-align: middle;\n",
       "    }\n",
       "\n",
       "    .dataframe tbody tr th {\n",
       "        vertical-align: top;\n",
       "    }\n",
       "\n",
       "    .dataframe thead th {\n",
       "        text-align: right;\n",
       "    }\n",
       "</style>\n",
       "<table border=\"1\" class=\"dataframe\">\n",
       "  <thead>\n",
       "    <tr style=\"text-align: right;\">\n",
       "      <th>correct_squares</th>\n",
       "      <th>30-39</th>\n",
       "      <th>40-49</th>\n",
       "      <th>50</th>\n",
       "      <th>51</th>\n",
       "      <th>52</th>\n",
       "      <th>53</th>\n",
       "      <th>54</th>\n",
       "      <th>55</th>\n",
       "      <th>56</th>\n",
       "      <th>57</th>\n",
       "      <th>58</th>\n",
       "      <th>59</th>\n",
       "      <th>60</th>\n",
       "      <th>61</th>\n",
       "      <th>62</th>\n",
       "      <th>64</th>\n",
       "    </tr>\n",
       "    <tr>\n",
       "      <th>alg_K</th>\n",
       "      <th></th>\n",
       "      <th></th>\n",
       "      <th></th>\n",
       "      <th></th>\n",
       "      <th></th>\n",
       "      <th></th>\n",
       "      <th></th>\n",
       "      <th></th>\n",
       "      <th></th>\n",
       "      <th></th>\n",
       "      <th></th>\n",
       "      <th></th>\n",
       "      <th></th>\n",
       "      <th></th>\n",
       "      <th></th>\n",
       "      <th></th>\n",
       "    </tr>\n",
       "  </thead>\n",
       "  <tbody>\n",
       "    <tr>\n",
       "      <th>CPA</th>\n",
       "      <td>0.0</td>\n",
       "      <td>0.0</td>\n",
       "      <td>0.0</td>\n",
       "      <td>0.0</td>\n",
       "      <td>0.0</td>\n",
       "      <td>0.0</td>\n",
       "      <td>0.0</td>\n",
       "      <td>0.0</td>\n",
       "      <td>0.0</td>\n",
       "      <td>0.0</td>\n",
       "      <td>0.0</td>\n",
       "      <td>0.0</td>\n",
       "      <td>16.0</td>\n",
       "      <td>2.0</td>\n",
       "      <td>393.0</td>\n",
       "      <td>1589.0</td>\n",
       "    </tr>\n",
       "    <tr>\n",
       "      <th>CPS</th>\n",
       "      <td>0.0</td>\n",
       "      <td>0.0</td>\n",
       "      <td>0.0</td>\n",
       "      <td>0.0</td>\n",
       "      <td>0.0</td>\n",
       "      <td>0.0</td>\n",
       "      <td>0.0</td>\n",
       "      <td>0.0</td>\n",
       "      <td>0.0</td>\n",
       "      <td>0.0</td>\n",
       "      <td>0.0</td>\n",
       "      <td>0.0</td>\n",
       "      <td>5.0</td>\n",
       "      <td>1.0</td>\n",
       "      <td>57.0</td>\n",
       "      <td>1937.0</td>\n",
       "    </tr>\n",
       "    <tr>\n",
       "      <th>ESD</th>\n",
       "      <td>0.0</td>\n",
       "      <td>690.0</td>\n",
       "      <td>205.0</td>\n",
       "      <td>199.0</td>\n",
       "      <td>96.0</td>\n",
       "      <td>114.0</td>\n",
       "      <td>143.0</td>\n",
       "      <td>168.0</td>\n",
       "      <td>124.0</td>\n",
       "      <td>102.0</td>\n",
       "      <td>95.0</td>\n",
       "      <td>52.0</td>\n",
       "      <td>12.0</td>\n",
       "      <td>0.0</td>\n",
       "      <td>0.0</td>\n",
       "      <td>0.0</td>\n",
       "    </tr>\n",
       "    <tr>\n",
       "      <th>IA</th>\n",
       "      <td>0.0</td>\n",
       "      <td>0.0</td>\n",
       "      <td>0.0</td>\n",
       "      <td>0.0</td>\n",
       "      <td>0.0</td>\n",
       "      <td>0.0</td>\n",
       "      <td>0.0</td>\n",
       "      <td>0.0</td>\n",
       "      <td>0.0</td>\n",
       "      <td>0.0</td>\n",
       "      <td>0.0</td>\n",
       "      <td>0.0</td>\n",
       "      <td>7.0</td>\n",
       "      <td>2.0</td>\n",
       "      <td>419.0</td>\n",
       "      <td>1572.0</td>\n",
       "    </tr>\n",
       "    <tr>\n",
       "      <th>SD</th>\n",
       "      <td>158.0</td>\n",
       "      <td>1471.0</td>\n",
       "      <td>60.0</td>\n",
       "      <td>59.0</td>\n",
       "      <td>70.0</td>\n",
       "      <td>74.0</td>\n",
       "      <td>36.0</td>\n",
       "      <td>23.0</td>\n",
       "      <td>42.0</td>\n",
       "      <td>7.0</td>\n",
       "      <td>0.0</td>\n",
       "      <td>0.0</td>\n",
       "      <td>0.0</td>\n",
       "      <td>0.0</td>\n",
       "      <td>0.0</td>\n",
       "      <td>0.0</td>\n",
       "    </tr>\n",
       "    <tr>\n",
       "      <th>TK10</th>\n",
       "      <td>0.0</td>\n",
       "      <td>0.0</td>\n",
       "      <td>0.0</td>\n",
       "      <td>0.0</td>\n",
       "      <td>0.0</td>\n",
       "      <td>0.0</td>\n",
       "      <td>0.0</td>\n",
       "      <td>0.0</td>\n",
       "      <td>0.0</td>\n",
       "      <td>0.0</td>\n",
       "      <td>0.0</td>\n",
       "      <td>0.0</td>\n",
       "      <td>5.0</td>\n",
       "      <td>1.0</td>\n",
       "      <td>57.0</td>\n",
       "      <td>1937.0</td>\n",
       "    </tr>\n",
       "    <tr>\n",
       "      <th>TK2</th>\n",
       "      <td>0.0</td>\n",
       "      <td>0.0</td>\n",
       "      <td>0.0</td>\n",
       "      <td>0.0</td>\n",
       "      <td>0.0</td>\n",
       "      <td>0.0</td>\n",
       "      <td>0.0</td>\n",
       "      <td>0.0</td>\n",
       "      <td>0.0</td>\n",
       "      <td>0.0</td>\n",
       "      <td>0.0</td>\n",
       "      <td>0.0</td>\n",
       "      <td>4.0</td>\n",
       "      <td>1.0</td>\n",
       "      <td>59.0</td>\n",
       "      <td>1936.0</td>\n",
       "    </tr>\n",
       "    <tr>\n",
       "      <th>TK3</th>\n",
       "      <td>0.0</td>\n",
       "      <td>0.0</td>\n",
       "      <td>0.0</td>\n",
       "      <td>0.0</td>\n",
       "      <td>0.0</td>\n",
       "      <td>0.0</td>\n",
       "      <td>0.0</td>\n",
       "      <td>0.0</td>\n",
       "      <td>0.0</td>\n",
       "      <td>0.0</td>\n",
       "      <td>0.0</td>\n",
       "      <td>0.0</td>\n",
       "      <td>5.0</td>\n",
       "      <td>1.0</td>\n",
       "      <td>57.0</td>\n",
       "      <td>1937.0</td>\n",
       "    </tr>\n",
       "    <tr>\n",
       "      <th>TK4</th>\n",
       "      <td>0.0</td>\n",
       "      <td>0.0</td>\n",
       "      <td>0.0</td>\n",
       "      <td>0.0</td>\n",
       "      <td>0.0</td>\n",
       "      <td>0.0</td>\n",
       "      <td>0.0</td>\n",
       "      <td>0.0</td>\n",
       "      <td>0.0</td>\n",
       "      <td>0.0</td>\n",
       "      <td>0.0</td>\n",
       "      <td>0.0</td>\n",
       "      <td>5.0</td>\n",
       "      <td>1.0</td>\n",
       "      <td>57.0</td>\n",
       "      <td>1937.0</td>\n",
       "    </tr>\n",
       "    <tr>\n",
       "      <th>TK5</th>\n",
       "      <td>0.0</td>\n",
       "      <td>0.0</td>\n",
       "      <td>0.0</td>\n",
       "      <td>0.0</td>\n",
       "      <td>0.0</td>\n",
       "      <td>0.0</td>\n",
       "      <td>0.0</td>\n",
       "      <td>0.0</td>\n",
       "      <td>0.0</td>\n",
       "      <td>0.0</td>\n",
       "      <td>0.0</td>\n",
       "      <td>0.0</td>\n",
       "      <td>5.0</td>\n",
       "      <td>1.0</td>\n",
       "      <td>57.0</td>\n",
       "      <td>1937.0</td>\n",
       "    </tr>\n",
       "    <tr>\n",
       "      <th>TK6</th>\n",
       "      <td>0.0</td>\n",
       "      <td>0.0</td>\n",
       "      <td>0.0</td>\n",
       "      <td>0.0</td>\n",
       "      <td>0.0</td>\n",
       "      <td>0.0</td>\n",
       "      <td>0.0</td>\n",
       "      <td>0.0</td>\n",
       "      <td>0.0</td>\n",
       "      <td>0.0</td>\n",
       "      <td>0.0</td>\n",
       "      <td>0.0</td>\n",
       "      <td>5.0</td>\n",
       "      <td>1.0</td>\n",
       "      <td>57.0</td>\n",
       "      <td>1937.0</td>\n",
       "    </tr>\n",
       "    <tr>\n",
       "      <th>TK7</th>\n",
       "      <td>0.0</td>\n",
       "      <td>0.0</td>\n",
       "      <td>0.0</td>\n",
       "      <td>0.0</td>\n",
       "      <td>0.0</td>\n",
       "      <td>0.0</td>\n",
       "      <td>0.0</td>\n",
       "      <td>0.0</td>\n",
       "      <td>0.0</td>\n",
       "      <td>0.0</td>\n",
       "      <td>0.0</td>\n",
       "      <td>0.0</td>\n",
       "      <td>5.0</td>\n",
       "      <td>1.0</td>\n",
       "      <td>57.0</td>\n",
       "      <td>1937.0</td>\n",
       "    </tr>\n",
       "    <tr>\n",
       "      <th>TK8</th>\n",
       "      <td>0.0</td>\n",
       "      <td>0.0</td>\n",
       "      <td>0.0</td>\n",
       "      <td>0.0</td>\n",
       "      <td>0.0</td>\n",
       "      <td>0.0</td>\n",
       "      <td>0.0</td>\n",
       "      <td>0.0</td>\n",
       "      <td>0.0</td>\n",
       "      <td>0.0</td>\n",
       "      <td>0.0</td>\n",
       "      <td>0.0</td>\n",
       "      <td>5.0</td>\n",
       "      <td>1.0</td>\n",
       "      <td>57.0</td>\n",
       "      <td>1937.0</td>\n",
       "    </tr>\n",
       "    <tr>\n",
       "      <th>TK9</th>\n",
       "      <td>0.0</td>\n",
       "      <td>0.0</td>\n",
       "      <td>0.0</td>\n",
       "      <td>0.0</td>\n",
       "      <td>0.0</td>\n",
       "      <td>0.0</td>\n",
       "      <td>0.0</td>\n",
       "      <td>0.0</td>\n",
       "      <td>0.0</td>\n",
       "      <td>0.0</td>\n",
       "      <td>0.0</td>\n",
       "      <td>0.0</td>\n",
       "      <td>5.0</td>\n",
       "      <td>1.0</td>\n",
       "      <td>57.0</td>\n",
       "      <td>1937.0</td>\n",
       "    </tr>\n",
       "  </tbody>\n",
       "</table>\n",
       "</div>"
      ],
      "text/plain": [
       "correct_squares  30-39   40-49     50     51    52     53     54     55  \\\n",
       "alg_K                                                                     \n",
       "CPA                0.0     0.0    0.0    0.0   0.0    0.0    0.0    0.0   \n",
       "CPS                0.0     0.0    0.0    0.0   0.0    0.0    0.0    0.0   \n",
       "ESD                0.0   690.0  205.0  199.0  96.0  114.0  143.0  168.0   \n",
       "IA                 0.0     0.0    0.0    0.0   0.0    0.0    0.0    0.0   \n",
       "SD               158.0  1471.0   60.0   59.0  70.0   74.0   36.0   23.0   \n",
       "TK10               0.0     0.0    0.0    0.0   0.0    0.0    0.0    0.0   \n",
       "TK2                0.0     0.0    0.0    0.0   0.0    0.0    0.0    0.0   \n",
       "TK3                0.0     0.0    0.0    0.0   0.0    0.0    0.0    0.0   \n",
       "TK4                0.0     0.0    0.0    0.0   0.0    0.0    0.0    0.0   \n",
       "TK5                0.0     0.0    0.0    0.0   0.0    0.0    0.0    0.0   \n",
       "TK6                0.0     0.0    0.0    0.0   0.0    0.0    0.0    0.0   \n",
       "TK7                0.0     0.0    0.0    0.0   0.0    0.0    0.0    0.0   \n",
       "TK8                0.0     0.0    0.0    0.0   0.0    0.0    0.0    0.0   \n",
       "TK9                0.0     0.0    0.0    0.0   0.0    0.0    0.0    0.0   \n",
       "\n",
       "correct_squares     56     57    58    59    60   61     62      64  \n",
       "alg_K                                                                \n",
       "CPA                0.0    0.0   0.0   0.0  16.0  2.0  393.0  1589.0  \n",
       "CPS                0.0    0.0   0.0   0.0   5.0  1.0   57.0  1937.0  \n",
       "ESD              124.0  102.0  95.0  52.0  12.0  0.0    0.0     0.0  \n",
       "IA                 0.0    0.0   0.0   0.0   7.0  2.0  419.0  1572.0  \n",
       "SD                42.0    7.0   0.0   0.0   0.0  0.0    0.0     0.0  \n",
       "TK10               0.0    0.0   0.0   0.0   5.0  1.0   57.0  1937.0  \n",
       "TK2                0.0    0.0   0.0   0.0   4.0  1.0   59.0  1936.0  \n",
       "TK3                0.0    0.0   0.0   0.0   5.0  1.0   57.0  1937.0  \n",
       "TK4                0.0    0.0   0.0   0.0   5.0  1.0   57.0  1937.0  \n",
       "TK5                0.0    0.0   0.0   0.0   5.0  1.0   57.0  1937.0  \n",
       "TK6                0.0    0.0   0.0   0.0   5.0  1.0   57.0  1937.0  \n",
       "TK7                0.0    0.0   0.0   0.0   5.0  1.0   57.0  1937.0  \n",
       "TK8                0.0    0.0   0.0   0.0   5.0  1.0   57.0  1937.0  \n",
       "TK9                0.0    0.0   0.0   0.0   5.0  1.0   57.0  1937.0  "
      ]
     },
     "execution_count": 120,
     "metadata": {},
     "output_type": "execute_result"
    }
   ],
   "source": [
    "# number of squares guessed correctly:\n",
    "d = df.copy()\n",
    "d['correct_squares'] = df.correct_squares.apply(lambda x: str(x) if x >= 50 else str(x//10*10) + \"-\" + str((x//10+1)*10-1) )# \"<= 50\")\n",
    "d = d.groupby(['alg_K', 'correct_squares']).agg({'image_path':'count'}).reset_index().pivot(\n",
    "    index = 'alg_K', values = 'image_path', columns = 'correct_squares').fillna(0)\n",
    "d"
   ]
  },
  {
   "cell_type": "code",
   "execution_count": 122,
   "metadata": {
    "colab": {
     "base_uri": "https://localhost:8080/",
     "height": 175
    },
    "id": "_wa-AHvHiLFu",
    "outputId": "4dd39a9c-1738-4f80-e1a4-df6361f77de0"
   },
   "outputs": [
    {
     "data": {
      "text/html": [
       "<div>\n",
       "<style scoped>\n",
       "    .dataframe tbody tr th:only-of-type {\n",
       "        vertical-align: middle;\n",
       "    }\n",
       "\n",
       "    .dataframe tbody tr th {\n",
       "        vertical-align: top;\n",
       "    }\n",
       "\n",
       "    .dataframe thead tr th {\n",
       "        text-align: left;\n",
       "    }\n",
       "\n",
       "    .dataframe thead tr:last-of-type th {\n",
       "        text-align: right;\n",
       "    }\n",
       "</style>\n",
       "<table border=\"1\" class=\"dataframe\">\n",
       "  <thead>\n",
       "    <tr>\n",
       "      <th></th>\n",
       "      <th colspan=\"2\" halign=\"left\">correct_squares</th>\n",
       "    </tr>\n",
       "    <tr>\n",
       "      <th></th>\n",
       "      <th>min</th>\n",
       "      <th>max</th>\n",
       "    </tr>\n",
       "    <tr>\n",
       "      <th>alg_K</th>\n",
       "      <th></th>\n",
       "      <th></th>\n",
       "    </tr>\n",
       "  </thead>\n",
       "  <tbody>\n",
       "    <tr>\n",
       "      <th>CPA</th>\n",
       "      <td>60</td>\n",
       "      <td>64</td>\n",
       "    </tr>\n",
       "    <tr>\n",
       "      <th>CPS</th>\n",
       "      <td>60</td>\n",
       "      <td>64</td>\n",
       "    </tr>\n",
       "    <tr>\n",
       "      <th>ESD</th>\n",
       "      <td>45</td>\n",
       "      <td>60</td>\n",
       "    </tr>\n",
       "    <tr>\n",
       "      <th>IA</th>\n",
       "      <td>60</td>\n",
       "      <td>64</td>\n",
       "    </tr>\n",
       "    <tr>\n",
       "      <th>SD</th>\n",
       "      <td>36</td>\n",
       "      <td>57</td>\n",
       "    </tr>\n",
       "    <tr>\n",
       "      <th>TK10</th>\n",
       "      <td>60</td>\n",
       "      <td>64</td>\n",
       "    </tr>\n",
       "    <tr>\n",
       "      <th>TK2</th>\n",
       "      <td>60</td>\n",
       "      <td>64</td>\n",
       "    </tr>\n",
       "    <tr>\n",
       "      <th>TK3</th>\n",
       "      <td>60</td>\n",
       "      <td>64</td>\n",
       "    </tr>\n",
       "    <tr>\n",
       "      <th>TK4</th>\n",
       "      <td>60</td>\n",
       "      <td>64</td>\n",
       "    </tr>\n",
       "    <tr>\n",
       "      <th>TK5</th>\n",
       "      <td>60</td>\n",
       "      <td>64</td>\n",
       "    </tr>\n",
       "    <tr>\n",
       "      <th>TK6</th>\n",
       "      <td>60</td>\n",
       "      <td>64</td>\n",
       "    </tr>\n",
       "    <tr>\n",
       "      <th>TK7</th>\n",
       "      <td>60</td>\n",
       "      <td>64</td>\n",
       "    </tr>\n",
       "    <tr>\n",
       "      <th>TK8</th>\n",
       "      <td>60</td>\n",
       "      <td>64</td>\n",
       "    </tr>\n",
       "    <tr>\n",
       "      <th>TK9</th>\n",
       "      <td>60</td>\n",
       "      <td>64</td>\n",
       "    </tr>\n",
       "  </tbody>\n",
       "</table>\n",
       "</div>"
      ],
      "text/plain": [
       "      correct_squares    \n",
       "                  min max\n",
       "alg_K                    \n",
       "CPA                60  64\n",
       "CPS                60  64\n",
       "ESD                45  60\n",
       "IA                 60  64\n",
       "SD                 36  57\n",
       "TK10               60  64\n",
       "TK2                60  64\n",
       "TK3                60  64\n",
       "TK4                60  64\n",
       "TK5                60  64\n",
       "TK6                60  64\n",
       "TK7                60  64\n",
       "TK8                60  64\n",
       "TK9                60  64"
      ]
     },
     "execution_count": 122,
     "metadata": {},
     "output_type": "execute_result"
    }
   ],
   "source": [
    "df.groupby('alg_K').agg({'correct_squares':['min', 'max']})"
   ]
  },
  {
   "cell_type": "code",
   "execution_count": 123,
   "metadata": {
    "colab": {
     "base_uri": "https://localhost:8080/",
     "height": 505
    },
    "id": "dMqi_8TDiaSr",
    "outputId": "42a79569-4e1a-4ca1-df43-229e5369a041"
   },
   "outputs": [
    {
     "data": {
      "image/png": "[encoded data removed]",
      "text/plain": [
       "<Figure size 640x480 with 2 Axes>"
      ]
     },
     "metadata": {},
     "output_type": "display_data"
    }
   ],
   "source": [
    "hist_sd = plt.hist(df[df.algorithm == 'SD'].correct_squares, density = False, bins = 57-36, label = 'Histogram SD', alpha = 0.5)\n",
    "hist_esd = plt.hist(df[df.algorithm == 'ESD'].correct_squares, density = False, bins = 60-45, label = 'Histogram ESD', alpha = 0.5)\n",
    "\n",
    "x = np.linspace(35, 61)\n",
    "sd_mu = df[df.algorithm == 'SD'].correct_squares.mean()\n",
    "sd_s2 = ((df[df.algorithm == 'SD'].correct_squares - sd_mu)**2).sum() / (1999)\n",
    "sd_N = 1/np.sqrt(2*np.pi*sd_s2) * np.exp(-(x-sd_mu)**2/(2*sd_s2)) * 2000\n",
    "esd_mu = df[df.algorithm == 'ESD'].correct_squares.mean()\n",
    "esd_s2 = ((df[df.algorithm == 'ESD'].correct_squares - sd_mu)**2).sum() / (1999)\n",
    "esd_N = 1/np.sqrt(2*np.pi*esd_s2) * np.exp(-(x-esd_mu)**2/(2*esd_s2)) * 2000\n",
    "\n",
    "plt.plot(x, sd_N, color = \"blue\", label = \"Normal fit SD\")\n",
    "plt.plot(x, esd_N, color = \"orange\", label = \"Normal fit ESD\")\n",
    "\n",
    "plt.ylabel(\"Number of samples\")\n",
    "plt.xlabel(\"Correct squares\")\n",
    "plt.legend()\n",
    "\n",
    "# add a second X axis:\n",
    "ax2 = plt.gca().twiny()\n",
    "ax2.set_xlim(35/64, 61/64)\n",
    "ax2.set_xticks(np.arange(35, 62, 5)/64)\n",
    "ax2.set_xticklabels([f'{i/64:.2f}' for i in np.arange(35, 62, 5)])\n",
    "ax2.set_xlabel(\"Square accuracy\")\n",
    "\n",
    "# Put the second axis at the bottom\n",
    "ax2.spines['bottom'].set_position(('outward', 40))\n",
    "ax2.xaxis.set_ticks_position('bottom')\n",
    "ax2.xaxis.set_label_position('bottom')\n",
    "ax2.spines['bottom'].set_visible(True)\n",
    "# Hide the secondary top spines\n",
    "ax2.spines['top'].set_visible(False)\n",
    "\n",
    "plt.savefig(FIGURES_DIR / \"accS_hist_bf\")"
   ]
  },
  {
   "cell_type": "code",
   "execution_count": 125,
   "metadata": {
    "colab": {
     "base_uri": "https://localhost:8080/",
     "height": 523
    },
    "id": "Jrej126peYt1",
    "outputId": "72dc7784-d08f-4cd3-974c-67a72f464ba3"
   },
   "outputs": [
    {
     "data": {
      "image/png": "[encoded data removed]",
      "text/plain": [
       "<Figure size 601.875x500 with 1 Axes>"
      ]
     },
     "metadata": {},
     "output_type": "display_data"
    }
   ],
   "source": [
    "_ = sns.displot(data=df[df.algorithm.str.contains(\"SD\")], x = \"correct_squares\", hue = \"algorithm\", kde = True, multiple = \"layer\")"
   ]
  },
  {
   "cell_type": "code",
   "execution_count": 126,
   "metadata": {
    "colab": {
     "base_uri": "https://localhost:8080/",
     "height": 440
    },
    "id": "iQiSjtXOnQpD",
    "outputId": "2647f2f9-d2cf-46f0-fd4b-e5f5d74c9015"
   },
   "outputs": [
    {
     "data": {
      "image/png": "[encoded data removed]",
      "text/plain": [
       "<Figure size 640x480 with 2 Axes>"
      ]
     },
     "metadata": {},
     "output_type": "display_data"
    }
   ],
   "source": [
    "#df.boxplot(column = \"correct_squares\", by=\"algorithm\", figsize=(20,8))\n",
    "df[df.algorithm.str.contains(\"SD\")].boxplot(column = \"correct_squares\", by=\"algorithm\")\n",
    "plt.title(\"\")\n",
    "plt.suptitle(\"\")\n",
    "plt.ylabel(\"Correct squares\")\n",
    "plt.xlabel(\"Algorithm\")\n",
    "\n",
    "# Add another Y axis\n",
    "ax1 = plt.gca()\n",
    "ax2 = ax1.twinx()\n",
    "ax2.set_ylim(ax1.get_ylim())\n",
    "ax2.set_yticks(np.arange(ax1.get_ylim()[0], ax1.get_ylim()[1]+1, 5))\n",
    "ax2.set_yticklabels([f'{int(y)/64:.2f}' for y in np.arange(ax1.get_ylim()[0], ax1.get_ylim()[1]+1, 5)])\n",
    "ax2.set_ylabel(\"Square accuracy\")\n",
    "\n",
    "plt.savefig(FIGURES_DIR / \"accS_boxplot_bf\")"
   ]
  },
  {
   "cell_type": "markdown",
   "metadata": {
    "id": "R9fY9LAOw2nJ"
   },
   "source": [
    "### test: compare square accuracy of SD and ESD"
   ]
  },
  {
   "cell_type": "markdown",
   "metadata": {
    "id": "T5ILvyqEBcmD"
   },
   "source": [
    "first test the normality:"
   ]
  },
  {
   "cell_type": "code",
   "execution_count": 127,
   "metadata": {
    "colab": {
     "base_uri": "https://localhost:8080/"
    },
    "id": "vo3ZKJDaw6Fc",
    "outputId": "0d768eb3-a661-4128-9709-5218b3a0a8a8"
   },
   "outputs": [
    {
     "data": {
      "text/plain": [
       "ShapiroResult(statistic=np.float64(0.9785149035512191), pvalue=np.float64(8.861191928381775e-17))"
      ]
     },
     "execution_count": 127,
     "metadata": {},
     "output_type": "execute_result"
    }
   ],
   "source": [
    "SAcc_sd = df[df.algorithm == \"SD\"].correct_squares / 64\n",
    "shapiro(SAcc_sd)"
   ]
  },
  {
   "cell_type": "code",
   "execution_count": 128,
   "metadata": {
    "colab": {
     "base_uri": "https://localhost:8080/"
    },
    "id": "BaEZeP26xYTU",
    "outputId": "14604cac-08f8-4d51-aa8a-8cd3d266a86a"
   },
   "outputs": [
    {
     "data": {
      "text/plain": [
       "ShapiroResult(statistic=np.float64(0.9620608667576337), pvalue=np.float64(1.7803340334157683e-22))"
      ]
     },
     "execution_count": 128,
     "metadata": {},
     "output_type": "execute_result"
    }
   ],
   "source": [
    "SAcc_esd = df[df.algorithm == \"ESD\"].correct_squares / 64\n",
    "shapiro(SAcc_esd)"
   ]
  },
  {
   "cell_type": "markdown",
   "metadata": {
    "id": "jeGUOaxrBgSv"
   },
   "source": [
    "then proceed with the comparison:"
   ]
  },
  {
   "cell_type": "code",
   "execution_count": 129,
   "metadata": {
    "colab": {
     "base_uri": "https://localhost:8080/"
    },
    "id": "xiLIJvCTcZHX",
    "outputId": "79939b70-81a0-4e8e-f81d-c75cd95fa3e9"
   },
   "outputs": [
    {
     "data": {
      "text/plain": [
       "WilcoxonResult(statistic=np.float64(134550.5), pvalue=np.float64(1.0728133725050509e-234))"
      ]
     },
     "execution_count": 129,
     "metadata": {},
     "output_type": "execute_result"
    }
   ],
   "source": [
    "wilcoxon(SAcc_sd, SAcc_esd, alternative=\"less\")"
   ]
  },
  {
   "cell_type": "code",
   "execution_count": 130,
   "metadata": {
    "colab": {
     "base_uri": "https://localhost:8080/",
     "height": 147
    },
    "id": "Pe6zYVCrdt5V",
    "outputId": "952c94fd-277c-4da2-cda4-bb871407bbc7"
   },
   "outputs": [
    {
     "data": {
      "text/plain": [
       "correct_squares\n",
       "False    4000\n",
       "Name: index, dtype: int64"
      ]
     },
     "execution_count": 130,
     "metadata": {},
     "output_type": "execute_result"
    }
   ],
   "source": [
    "# in fact, in all samples, ESD performs better than SD\n",
    "(SAcc_sd - SAcc_esd > 0).reset_index().groupby('correct_squares').index.count()"
   ]
  },
  {
   "cell_type": "markdown",
   "metadata": {
    "id": "aytLQwGDCOTG"
   },
   "source": [
    "### test: compare system accuracy of domaim-aware approaches"
   ]
  },
  {
   "cell_type": "code",
   "execution_count": 131,
   "metadata": {
    "colab": {
     "base_uri": "https://localhost:8080/",
     "height": 335
    },
    "id": "x_F0TTRynG5D",
    "outputId": "fe58aa0b-2857-49eb-8eb1-026606c9c300"
   },
   "outputs": [
    {
     "data": {
      "text/plain": [
       "algorithm\n",
       "CPA    0.7945\n",
       "CPS    0.9685\n",
       "ESD    0.0000\n",
       "IA     0.7860\n",
       "SD     0.0000\n",
       "TK     8.7160\n",
       "Name: correct, dtype: float64"
      ]
     },
     "execution_count": 131,
     "metadata": {},
     "output_type": "execute_result"
    }
   ],
   "source": [
    "N = 2000\n",
    "pp = df.groupby(\"algorithm\").correct.sum() / N\n",
    "pp"
   ]
  },
  {
   "cell_type": "code",
   "execution_count": 70,
   "metadata": {
    "colab": {
     "base_uri": "https://localhost:8080/"
    },
    "id": "CWwmqPF2nYlL",
    "outputId": "fbe2ea41-3478-45bd-b696-cd845dc606c9"
   },
   "outputs": [
    {
     "name": "stdout",
     "output_type": "stream",
     "text": [
      "-0.6602154583208837\n"
     ]
    },
    {
     "data": {
      "text/plain": [
       "np.float64(0.25455778681067165)"
      ]
     },
     "execution_count": 70,
     "metadata": {},
     "output_type": "execute_result"
    }
   ],
   "source": [
    "# each algorithm behaves as a Binomial distribution: k ~ Bin(p, n=2000), accuracy = k/n, k = correct samples\n",
    "# test to compare the \"p\" of two algorithms:\n",
    "\n",
    "# p_hat = (k1+k2)/(n1+n2) -> if n1=n2=N -> (k1+k2)/(2N) = p1_hat/2 + p2_hat/2\n",
    "\n",
    "# IA vs CPA\n",
    "p1 = pp['IA']\n",
    "p2 = pp['CPA']\n",
    "ph = (p1+p2)/2\n",
    "z = (p1-p2) / np.sqrt(ph*(1-ph)*2/N)\n",
    "print(z)\n",
    "\n",
    "# p-value for a left-tailed test:\n",
    "scipy.stats.norm.cdf(z)\n",
    "\n",
    "# if >0.05 -> accept H0 -> p1=p2\n",
    "# if <0.05 -> reject H0 -> p1<p2"
   ]
  },
  {
   "cell_type": "code",
   "execution_count": 72,
   "metadata": {
    "colab": {
     "base_uri": "https://localhost:8080/"
    },
    "id": "gXygn0RTp_XY",
    "outputId": "f8389064-086d-4101-d3ca-fcaf2e7facbd"
   },
   "outputs": [
    {
     "name": "stdout",
     "output_type": "stream",
     "text": [
      "-17.024678323554483\n"
     ]
    },
    {
     "data": {
      "text/plain": [
       "np.float64(2.6943894387213127e-65)"
      ]
     },
     "execution_count": 72,
     "metadata": {},
     "output_type": "execute_result"
    }
   ],
   "source": [
    "# p_hat = (k1+k2)/(n1+n2) -> if n1=n2=N -> (k1+k2)/(2N) = p1_hat/2 + p2_hat/2\n",
    "\n",
    "p1 = pp['CPA']\n",
    "p2 = pp['CPS']\n",
    "ph = (p1+p2)/2\n",
    "z = (p1-p2) / np.sqrt(ph*(1-ph)*2/N)\n",
    "print(z)\n",
    "\n",
    "# p-value for a left-tailed test:\n",
    "scipy.stats.norm.cdf(z)\n",
    "\n",
    "# if >0.05 -> accept H0 -> p1=p2\n",
    "# if <0.05 -> reject H0 -> p1<p2"
   ]
  },
  {
   "cell_type": "markdown",
   "metadata": {
    "id": "IYQMksEqhyAm"
   },
   "source": [
    "## prediction time"
   ]
  },
  {
   "cell_type": "code",
   "execution_count": null,
   "metadata": {
    "colab": {
     "base_uri": "https://localhost:8080/",
     "height": 568
    },
    "id": "3AQaOPKnog1I",
    "outputId": "41d6b628-cff9-4988-a7ee-743770fedeaa"
   },
   "outputs": [],
   "source": [
    "# average time:\n",
    "pd.concat([\n",
    "    df.groupby([\"alg_K\"]).agg({'prediction_time':['mean', 'std', 'min', 'max', 'median']}),\n",
    "    df.groupby([\"alg_K\"]).prediction_time.quantile(0.25),\n",
    "    df.groupby([\"alg_K\"]).prediction_time.quantile(0.75)\n",
    "], axis = 1)"
   ]
  },
  {
   "cell_type": "code",
   "execution_count": null,
   "metadata": {
    "colab": {
     "base_uri": "https://localhost:8080/",
     "height": 405
    },
    "id": "FRMvCTiEppeE",
    "outputId": "02363df0-a978-43c5-f128-10e9143d653f"
   },
   "outputs": [],
   "source": [
    "# prediction time:\n",
    "#plt.figure(figsize = (16,6))\n",
    "plt.figure(figsize = (12,6))\n",
    "plt.figure(figsize = (8,4))\n",
    "\n",
    "for alg in ['IA', 'CPA', 'CPP', 'CPS', 'SD', 'ESD']: # to sort them in the order i want\n",
    "#for alg in [ 'TK2', 'TK10']: # to sort them in the order i want\n",
    "  if alg != \"TK\":\n",
    "    x = df[df.alg_K == alg].prediction_time\n",
    "    x = x[(x <= x.median() + 1.5*(x.quantile(0.75)-x.quantile(0.25))) & (x >= x.median() - 1.5*(x.quantile(0.75)-x.quantile(0.25)))] # remove the outliers\n",
    "    #plt.hist(x, density = False, bins = 30, alpha=1, label=alg, histtype=\"step\") #  range = (0,2)\n",
    "    plt.hist(x, density = False, bins = 160, range=(0, 1.6), alpha=1, label=alg, histtype=\"step\") #  range = (0,2)\n",
    "    #plt.hist(x, density = True, alpha=1, bins = 30, label=alg, histtype=\"step\") #  range = (0,2)\n",
    "    plt.legend()\n",
    "    # hay algunos pocos puntos más allá del 2 en realida\n",
    "\n",
    "plt.ylabel(\"Number of samples\")\n",
    "plt.xlabel(\"Time (s)\")\n",
    "plt.savefig(\"time_hist_noTK_noOut.pdf\", format=\"pdf\", bbox_inches='tight')\n",
    "plt.savefig(\"time_hist_noTK_noOut.png\", format=\"png\", bbox_inches='tight', transparent=True)"
   ]
  },
  {
   "cell_type": "code",
   "execution_count": null,
   "metadata": {
    "colab": {
     "base_uri": "https://localhost:8080/"
    },
    "id": "wSiI2e3LGxIR",
    "outputId": "82596493-bff2-48c9-8a24-f5063694f278"
   },
   "outputs": [],
   "source": [
    "d = df[df.alg_K == 'CPA']\n",
    "d = d[d.prediction_time < 1]\n",
    "shapiro(d.prediction_time)"
   ]
  },
  {
   "cell_type": "code",
   "execution_count": null,
   "metadata": {
    "colab": {
     "base_uri": "https://localhost:8080/",
     "height": 455
    },
    "id": "buSjOdc-rTBb",
    "outputId": "95d04fe1-69e1-41ee-fc09-b4a02a2efa67"
   },
   "outputs": [],
   "source": [
    "df.boxplot(column = \"prediction_time\", by=\"alg_K\", positions = [13,14,1,3,2,0, 12,4,5,6,7,8,9,10,11],\n",
    "                                 figsize=(10,5))\n",
    "\n",
    "plt.title(\"\")\n",
    "plt.suptitle(\"\")\n",
    "plt.ylabel(\"Time (s)\")\n",
    "plt.xlabel(\"Algorithm\")\n",
    "plt.savefig(\"time_boxplot_all.pdf\", format=\"pdf\", bbox_inches='tight')\n",
    "plt.savefig(\"time_boxplot_all.png\", format=\"png\", bbox_inches='tight', transparent=True)"
   ]
  },
  {
   "cell_type": "code",
   "execution_count": null,
   "metadata": {
    "colab": {
     "base_uri": "https://localhost:8080/",
     "height": 455
    },
    "id": "7-13J1qFn3YC",
    "outputId": "2a338ba0-bc33-4e87-8ae5-4774d65bc447"
   },
   "outputs": [],
   "source": [
    "df[df.algorithm != \"TK\"].boxplot(column = \"prediction_time\", by=\"algorithm\",\n",
    "                                 positions = [4,5,1,3,2,0], # to order the plots\n",
    "                                 figsize=(10,5)) # 14,8\n",
    "\n",
    "plt.title(\"\")\n",
    "plt.suptitle(\"\")\n",
    "plt.ylabel(\"Time (s)\")\n",
    "plt.xlabel(\"Algorithm\")\n",
    "plt.savefig(\"time_boxplot_noTK.pdf\", format=\"pdf\", bbox_inches='tight')"
   ]
  },
  {
   "cell_type": "code",
   "execution_count": null,
   "metadata": {
    "colab": {
     "base_uri": "https://localhost:8080/",
     "height": 563
    },
    "id": "WjUXj8I1n9WH",
    "outputId": "0ab19789-c2b4-41df-8d61-945e546085d9"
   },
   "outputs": [],
   "source": [
    "# change to integer for better visualization\n",
    "x = df[df.algorithm==\"TK\"]\n",
    "x['K'] = x['K'].apply(int)\n",
    "\n",
    "x.boxplot(column = \"prediction_time\", by=\"K\", figsize=(10,5))\n",
    "\n",
    "plt.title(\"\")\n",
    "plt.suptitle(\"\")\n",
    "plt.ylabel(\"Time (s)\")\n",
    "plt.xlabel(\"K\")\n",
    "\n",
    "plt.savefig(\"time_boxplot_TK.pdf\", format=\"pdf\", bbox_inches='tight')\n",
    "\n",
    "# the values are obtained later, with a linear regression\n",
    "plt.plot(np.array([1,2,3,4,5,6,7,8,9]), np.array([2,3,4,5,6,7,8,9,10])*0.02063736750000528+0.2938751394444067, color='r') # median\n",
    "#plt.plot(np.array([1,2,3,4,5,6,7,8,9]), np.array([2,3,4,5,6,7,8,9,10])*0.01852690808249981+0.2946412627994451, color='g') # mean\n",
    "\n",
    "plt.savefig(\"time_boxplot_TK_line.pdf\", format=\"pdf\", bbox_inches='tight')"
   ]
  },
  {
   "cell_type": "code",
   "execution_count": null,
   "metadata": {
    "colab": {
     "base_uri": "https://localhost:8080/"
    },
    "id": "BSZoL5-Z92Ds",
    "outputId": "93b46c2e-4e8e-4404-89c3-f0f921075812"
   },
   "outputs": [],
   "source": [
    "df['log_prediction_time'] = np.log(df['prediction_time'])\n",
    "df['sqrt_prediction_time'] = np.sqrt(df['prediction_time'])"
   ]
  },
  {
   "cell_type": "code",
   "execution_count": null,
   "metadata": {
    "colab": {
     "base_uri": "https://localhost:8080/",
     "height": 521
    },
    "id": "vCIqKKRIAZZX",
    "outputId": "190cc74c-6198-4e0a-82e7-9d38aedfc6ab"
   },
   "outputs": [],
   "source": [
    "df.boxplot(column = \"log_prediction_time\", by=\"alg_K\", figsize=(20,8))"
   ]
  },
  {
   "cell_type": "markdown",
   "metadata": {
    "id": "dIkVp_p-8rCX"
   },
   "source": [
    "### test: compare time of CPA, CPP, CPS"
   ]
  },
  {
   "cell_type": "markdown",
   "metadata": {
    "id": "8URlRwnJDK5h"
   },
   "source": [
    "first, test normality:"
   ]
  },
  {
   "cell_type": "code",
   "execution_count": null,
   "metadata": {
    "id": "j52O1BKY-0Kx"
   },
   "outputs": [],
   "source": [
    "d = df.pivot(index = ['previous_fen', 'image_path'], values = 'prediction_time', columns = 'alg_K').reset_index()"
   ]
  },
  {
   "cell_type": "code",
   "execution_count": null,
   "metadata": {
    "colab": {
     "base_uri": "https://localhost:8080/"
    },
    "id": "wwp_Soov86DE",
    "outputId": "5e9d41eb-de44-4d74-9255-1a53809db5eb"
   },
   "outputs": [],
   "source": [
    "print(shapiro(d.CPA))\n",
    "print(shapiro(d.CPP))\n",
    "print(shapiro(d.CPS))"
   ]
  },
  {
   "cell_type": "markdown",
   "metadata": {
    "id": "STlHdfSUDQZE"
   },
   "source": [
    "then compare medians (Wilcoxon test) and dispersions (Fligner test), with and without outliers:\n",
    "\n",
    "(here we also have Levene's test, although it's not used)"
   ]
  },
  {
   "cell_type": "code",
   "execution_count": null,
   "metadata": {
    "colab": {
     "base_uri": "https://localhost:8080/"
    },
    "id": "tuGKerYW84_1",
    "outputId": "fe425197-bc1d-4350-d464-9b6b5b4fe697"
   },
   "outputs": [],
   "source": [
    "print(\"Wilcoxon test - compare medians\")\n",
    "print(wilcoxon(d.CPA, d.CPP, alternative=\"two-sided\"))\n",
    "print(wilcoxon(d.CPA, d.CPS, alternative=\"two-sided\"))\n",
    "print(wilcoxon(d.CPP, d.CPS, alternative=\"two-sided\"))\n",
    "\n",
    "print(\"Levene's test - compare variances\")\n",
    "print(levene(np.array(d.CPA), np.array(d.CPP)))\n",
    "print(levene(np.array(d.CPA), np.array(d.CPS)))\n",
    "print(levene(np.array(d.CPP), np.array(d.CPS)))\n",
    "\n",
    "# levene without outliers:\n",
    "cp02 = d.CPA[(d.CPA > 0.214) & (d.CPA < 0.653)]\n",
    "cpp2 = d.CPA[(d.CPP > 0.254) & (d.CPP < 0.793)]\n",
    "cpc2 = d.CPA[(d.CPS > 0.253) & (d.CPS < 0.784)]\n",
    "print(\"Levene without outliers\")\n",
    "print(levene(np.array(cp02), np.array(cpp2)))\n",
    "print(levene(np.array(cp02), np.array(cpc2)))\n",
    "print(levene(np.array(cpp2), np.array(cpc2)))\n",
    "\n",
    "print(\"Fligner test - compare IQR\")\n",
    "print(fligner(d.CPA, d.CPP))\n",
    "print(fligner(d.CPA, d.CPS))\n",
    "print(fligner(d.CPP, d.CPS))\n"
   ]
  },
  {
   "cell_type": "code",
   "execution_count": null,
   "metadata": {
    "colab": {
     "base_uri": "https://localhost:8080/"
    },
    "id": "MTtRnz1_BFFn",
    "outputId": "b9aed895-bf8c-4a7f-d183-039cb6f3d661"
   },
   "outputs": [],
   "source": [
    "# without outliers:\n",
    "dd = d[d.CPP < 0.793]\n",
    "dd = dd[dd.CPA < 0.653]\n",
    "dd = dd[dd.CPP > 0.254]\n",
    "dd = dd[dd.CPA > 0.214]\n",
    "print(wilcoxon(dd.CPP, dd.CPA, alternative=\"two-sided\"))\n",
    "print(fligner(dd.CPA, dd.CPP))\n",
    "\n",
    "dd = d[d.CPS < 0.784]\n",
    "dd = dd[dd.CPA < 0.653]\n",
    "dd = dd[dd.CPS > 0.253]\n",
    "dd = dd[dd.CPA > 0.214]\n",
    "print(wilcoxon(dd.CPA, dd.CPS, alternative=\"two-sided\"))\n",
    "print(fligner(dd.CPA, dd.CPS))\n",
    "\n",
    "dd = d[d.CPP < 0.793]\n",
    "dd = dd[dd.CPS < 0.784]\n",
    "dd = dd[dd.CPP > 0.254]\n",
    "dd = dd[dd.CPS > 0.253]\n",
    "print(wilcoxon(dd.CPP, dd.CPS, alternative=\"two-sided\"))\n",
    "print(fligner(dd.CPP, dd.CPS))\n"
   ]
  },
  {
   "cell_type": "markdown",
   "metadata": {
    "id": "FE0lwb4u8vVO"
   },
   "source": [
    "### test: analyze the linear behaviour of K in top-K"
   ]
  },
  {
   "cell_type": "code",
   "execution_count": null,
   "metadata": {
    "id": "N-3umoPaqFus"
   },
   "outputs": [],
   "source": [
    "from scipy.stats import linregress"
   ]
  },
  {
   "cell_type": "code",
   "execution_count": null,
   "metadata": {
    "id": "djxG2wlmod4j"
   },
   "outputs": [],
   "source": [
    "# tried both with mean and median\n",
    "time_k = df.groupby('K').prediction_time.mean().reset_index()\n",
    "time_k = df.groupby('K').prediction_time.median().reset_index()"
   ]
  },
  {
   "cell_type": "code",
   "execution_count": null,
   "metadata": {
    "colab": {
     "base_uri": "https://localhost:8080/"
    },
    "id": "A30JfGZXqJLg",
    "outputId": "4d8a05db-7e06-44f8-8ee4-85bb0f46ab46"
   },
   "outputs": [],
   "source": [
    "# regression for the mean/median time of each K: (very linear fit)\n",
    "linregress(x=time_k.K, y=time_k.prediction_time)"
   ]
  },
  {
   "cell_type": "code",
   "execution_count": null,
   "metadata": {
    "colab": {
     "base_uri": "https://localhost:8080/"
    },
    "id": "REK8QmxYrXdj",
    "outputId": "651bea0a-5d95-43c5-c40c-53d4e2519cdd"
   },
   "outputs": [],
   "source": [
    "# regression with all the samples of each K: (the R2 is reduced)\n",
    "d = df[df.algorithm == \"TK\"]\n",
    "linregress(x=d.K, y=d.prediction_time)"
   ]
  },
  {
   "cell_type": "code",
   "execution_count": null,
   "metadata": {
    "colab": {
     "base_uri": "https://localhost:8080/",
     "height": 452
    },
    "id": "5vav3VMzre08",
    "outputId": "4badffb0-ef84-4edc-c732-f1f8c8179d6e"
   },
   "outputs": [],
   "source": [
    "plt.scatter(d.K, d.prediction_time)"
   ]
  },
  {
   "cell_type": "markdown",
   "metadata": {
    "id": "kjucyhA6Oc-D"
   },
   "source": [
    "## energy"
   ]
  },
  {
   "cell_type": "code",
   "execution_count": null,
   "metadata": {
    "colab": {
     "base_uri": "https://localhost:8080/"
    },
    "id": "VlMIn1iLW13L",
    "outputId": "cf4f0b7e-4efd-4c46-f4d6-f160a83ba172"
   },
   "outputs": [],
   "source": [
    "df.columns"
   ]
  },
  {
   "cell_type": "code",
   "execution_count": null,
   "metadata": {
    "colab": {
     "base_uri": "https://localhost:8080/",
     "height": 582
    },
    "id": "M2UgWmWlOeqp",
    "outputId": "2845fa82-7a01-4249-c007-70c7d82d84fe"
   },
   "outputs": [],
   "source": [
    "df.groupby('alg_K').agg({'energy_cpu':['median', 'mean', 'std'], 'energy_gpu':['median', 'mean', 'std'],\n",
    "                         'energy_ram':['median', 'mean', 'std'], 'energy_total':['median', 'mean', 'std']}).round(2)"
   ]
  },
  {
   "cell_type": "code",
   "execution_count": null,
   "metadata": {
    "colab": {
     "base_uri": "https://localhost:8080/",
     "height": 237
    },
    "id": "vj6aBDyp62fH",
    "outputId": "623d3446-d1b5-455c-9e9d-375675e789a4"
   },
   "outputs": [],
   "source": [
    "d = df.groupby('alg_K').agg({'energy_cpu':'median', 'energy_gpu':'median', 'energy_ram':'median', 'energy_total':'median'}).sort_index(key = sort_algorithm)\n",
    "d.head()"
   ]
  },
  {
   "cell_type": "code",
   "execution_count": null,
   "metadata": {
    "colab": {
     "base_uri": "https://localhost:8080/",
     "height": 522
    },
    "id": "ehgyVaaX7IAF",
    "outputId": "e52dea46-b8af-4333-b271-6517b2ad5b66"
   },
   "outputs": [],
   "source": [
    "plt.figure(figsize=(8, 6))\n",
    "p = plt.bar(d.index, d.energy_cpu)\n",
    "plt.ylabel(\"CPU energy (J)\")\n",
    "labels = [\"{x:,.2f}\".format(x = i)+\"\" for i in d.energy_cpu]\n",
    "plt.bar_label(p, labels, padding = 2)\n",
    "\n",
    "plt.savefig(\"energy_cpu_bars.pdf\", format=\"pdf\", bbox_inches='tight')"
   ]
  },
  {
   "cell_type": "code",
   "execution_count": null,
   "metadata": {
    "colab": {
     "base_uri": "https://localhost:8080/",
     "height": 554
    },
    "id": "utDARV-Rc8t5",
    "outputId": "3ba7267f-4f4f-4e3b-bd84-d41b129ab454"
   },
   "outputs": [],
   "source": [
    "plt.rcParams.update({'font.size': 16})\n",
    "plt.figure(figsize=(8, 6))\n",
    "p = plt.barh(d.index, d.energy_cpu)\n",
    "plt.xlabel(\"CPU energy (J)\")\n",
    "labels = [\"{x:,.2f}\".format(x = i)+\"\" for i in d.energy_cpu]\n",
    "plt.bar_label(p, labels, padding = 2)\n",
    "plt.gca().invert_yaxis()\n",
    "plt.xlim(0, 28)\n",
    "\n",
    "plt.savefig(\"energy_cpu_hbars.pdf\", format=\"pdf\", bbox_inches='tight')\n",
    "plt.rcParams.update({'font.size': 10})"
   ]
  },
  {
   "cell_type": "code",
   "execution_count": null,
   "metadata": {
    "colab": {
     "base_uri": "https://localhost:8080/",
     "height": 522
    },
    "id": "wv4S974jfgJ3",
    "outputId": "1ee3b994-df56-47d6-e5d5-1b3d17af9bbd"
   },
   "outputs": [],
   "source": [
    "plt.figure(figsize=(8, 6))\n",
    "p = plt.bar(d.index, d.energy_gpu)\n",
    "plt.ylabel(\"GPU energy (J)\")\n",
    "labels = [\"{x:,.2f}\".format(x = i)+\"\" for i in d.energy_gpu]\n",
    "plt.bar_label(p, labels, padding = 2)\n",
    "\n",
    "plt.savefig(\"energy_gpu_bars.pdf\", format=\"pdf\", bbox_inches='tight')"
   ]
  },
  {
   "cell_type": "code",
   "execution_count": null,
   "metadata": {
    "colab": {
     "base_uri": "https://localhost:8080/",
     "height": 554
    },
    "id": "pYoUEyuFfgAn",
    "outputId": "80031351-963b-4415-d504-9e5733b8a606"
   },
   "outputs": [],
   "source": [
    "plt.rcParams.update({'font.size': 16})\n",
    "plt.figure(figsize=(8, 6))\n",
    "p = plt.barh(d.index, d.energy_gpu)\n",
    "plt.xlabel(\"GPU energy (J)\")\n",
    "labels = [\"{x:,.2f}\".format(x = i)+\"\" for i in d.energy_gpu]\n",
    "plt.bar_label(p, labels, padding = 2)\n",
    "plt.gca().invert_yaxis()\n",
    "plt.xlim(0, 6.5)\n",
    "\n",
    "plt.savefig(\"energy_gpu_hbars.pdf\", format=\"pdf\", bbox_inches='tight')\n",
    "plt.rcParams.update({'font.size': 10})"
   ]
  },
  {
   "cell_type": "code",
   "execution_count": null,
   "metadata": {
    "colab": {
     "base_uri": "https://localhost:8080/",
     "height": 522
    },
    "id": "KjkUytmdff5G",
    "outputId": "843e95bd-af9f-4448-fea0-1fd7a93f8d14"
   },
   "outputs": [],
   "source": [
    "plt.figure(figsize=(8, 6))\n",
    "p = plt.bar(d.index, d.energy_ram)\n",
    "plt.ylabel(\"RAM energy (J)\")\n",
    "labels = [\"{x:,.2f}\".format(x = i)+\"\" for i in d.energy_ram]\n",
    "plt.bar_label(p, labels, padding = 2)\n",
    "\n",
    "plt.savefig(\"energy_ram_bars.pdf\", format=\"pdf\", bbox_inches='tight')"
   ]
  },
  {
   "cell_type": "code",
   "execution_count": null,
   "metadata": {
    "colab": {
     "base_uri": "https://localhost:8080/",
     "height": 554
    },
    "id": "dtTOHuNVffyA",
    "outputId": "99a634a3-fe29-45bc-ff37-7c521efd836f"
   },
   "outputs": [],
   "source": [
    "plt.rcParams.update({'font.size': 16})\n",
    "plt.figure(figsize=(8, 6))\n",
    "p = plt.barh(d.index, d.energy_ram)\n",
    "plt.xlabel(\"RAM energy (J)\")\n",
    "labels = [\"{x:,.2f}\".format(x = i)+\"\" for i in d.energy_ram]\n",
    "plt.bar_label(p, labels, padding = 2)\n",
    "plt.gca().invert_yaxis()\n",
    "plt.xlim(0, 34)\n",
    "\n",
    "plt.savefig(\"energy_ram_hbars.pdf\", format=\"pdf\", bbox_inches='tight')\n",
    "plt.rcParams.update({'font.size': 10})"
   ]
  },
  {
   "cell_type": "code",
   "execution_count": null,
   "metadata": {
    "colab": {
     "base_uri": "https://localhost:8080/",
     "height": 447
    },
    "id": "F0DM47N-LPW_",
    "outputId": "7fa26ff0-39f3-4e13-8126-25dc0f229e90"
   },
   "outputs": [],
   "source": [
    "plt.bar(d.index, d.energy_cpu, label = \"CPU\")\n",
    "plt.bar(d.index, d.energy_gpu, bottom = d.energy_cpu, label = \"GPU\")\n",
    "plt.bar(d.index, d.energy_ram, bottom = d.energy_cpu + d.energy_gpu, label = \"RAM\")\n",
    "plt.legend()"
   ]
  },
  {
   "cell_type": "code",
   "execution_count": null,
   "metadata": {
    "colab": {
     "base_uri": "https://localhost:8080/",
     "height": 554
    },
    "id": "SkfeqI-ngUCb",
    "outputId": "cf8909df-3c02-4e15-df4c-f7ebff548706"
   },
   "outputs": [],
   "source": [
    "plt.rcParams.update({'font.size': 16}) # 13 for the slides\n",
    "plt.figure(figsize=(8, 6)) # (10,6) for the slides\n",
    "p1 = plt.barh(d.index, d.energy_cpu, label = \"CPU\", alpha = 0.6)\n",
    "p2 = plt.barh(d.index, d.energy_gpu, left = d.energy_cpu, label = \"GPU\", alpha = 0.6)\n",
    "p3 = plt.barh(d.index, d.energy_ram, left = d.energy_cpu + d.energy_gpu, label = \"RAM\", alpha = 0.6)\n",
    "plt.legend()\n",
    "plt.xlabel(\"Total energy (J)\")\n",
    "\n",
    "# for the percentages:\n",
    "d2 = d[['energy_cpu', 'energy_gpu', 'energy_ram']]\n",
    "d2 = d2.div(d2.sum(axis=1), axis=0)\n",
    "labels_c = [\"{x:,.2f}\".format(x = 100*i)+\"%\" for i in d2.energy_cpu]\n",
    "labels_g = [\"{x:,.2f}\".format(x = 100*i)+\"%\" for i in d2.energy_gpu]\n",
    "labels_r = [\"{x:,.2f}\".format(x = 100*i)+\"%\" for i in d2.energy_ram]\n",
    "\n",
    "# add the labels\n",
    "l1 = plt.bar_label(p1, labels_c, label_type='center', fontsize = 11)\n",
    "l1[0].set_x(5)\n",
    "l2 = plt.bar_label(p2, labels_g, label_type='center', fontsize = 11)\n",
    "l2[0].set_x(15)\n",
    "plt.bar_label(p3, labels_r, label_type='center', fontsize = 11)\n",
    "# ajust axis\n",
    "plt.gca().invert_yaxis()\n",
    "plt.xlim(0, 63)\n",
    "\n",
    "plt.savefig(\"energy_total_hbars.pdf\", format=\"pdf\", bbox_inches='tight')\n",
    "plt.savefig(\"energy_total_hbars.png\", format=\"png\", bbox_inches='tight', transparent=True)\n",
    "plt.rcParams.update({'font.size': 10})"
   ]
  },
  {
   "cell_type": "code",
   "execution_count": null,
   "metadata": {
    "colab": {
     "base_uri": "https://localhost:8080/",
     "height": 539
    },
    "id": "npcx6-6Tna8p",
    "outputId": "867b2b1f-2116-4810-9813-726a58c6cdbc"
   },
   "outputs": [],
   "source": [
    "# since i cant find how to make the circles smaller, make everything else twice as large\n",
    "plt.rcParams.update({'font.size': 20})\n",
    "\n",
    "df.boxplot(column = \"energy_cpu\", by=\"alg_K\", positions = [13,14,1,3,2,0, 12,4,5,6,7,8,9,10,11],\n",
    "                                 figsize=(20,9.4)) # 10,5  14,8\n",
    "\n",
    "plt.title(\"\")\n",
    "plt.suptitle(\"\")\n",
    "plt.ylabel(\"CPU energy (J)\")\n",
    "plt.xlabel(\"Algorithm\")\n",
    "plt.savefig(\"energy_cpu_boxplot.pdf\", format=\"pdf\", bbox_inches='tight')\n",
    "\n",
    "plt.rcParams.update({'font.size': 10})"
   ]
  },
  {
   "cell_type": "code",
   "execution_count": null,
   "metadata": {
    "colab": {
     "base_uri": "https://localhost:8080/",
     "height": 539
    },
    "id": "XpeynYciwRrT",
    "outputId": "be4b41ff-eac6-48eb-e8ab-81f13514e818"
   },
   "outputs": [],
   "source": [
    "plt.rcParams.update({'font.size': 20})\n",
    "\n",
    "df.boxplot(column = \"energy_gpu\", by=\"alg_K\", positions = [13,14,1,3,2,0, 12,4,5,6,7,8,9,10,11],\n",
    "                                 figsize=(20,9.4)) # 10,5  14,8\n",
    "\n",
    "plt.title(\"\")\n",
    "plt.suptitle(\"\")\n",
    "plt.ylabel(\"GPU energy (J)\")\n",
    "plt.xlabel(\"Algorithm\")\n",
    "plt.savefig(\"energy_gpu_boxplot.pdf\", format=\"pdf\", bbox_inches='tight')\n",
    "\n",
    "plt.rcParams.update({'font.size': 10})"
   ]
  },
  {
   "cell_type": "code",
   "execution_count": null,
   "metadata": {
    "colab": {
     "base_uri": "https://localhost:8080/",
     "height": 539
    },
    "id": "qfJnvB6OwSY-",
    "outputId": "d2e5797d-3946-4500-b44a-54bc3f44b235"
   },
   "outputs": [],
   "source": [
    "plt.rcParams.update({'font.size': 20})\n",
    "\n",
    "df.boxplot(column = \"energy_ram\", by=\"alg_K\", positions = [13,14,1,3,2,0, 12,4,5,6,7,8,9,10,11],\n",
    "                                 figsize=(20,9.4)) # 10,5  14,8\n",
    "\n",
    "plt.title(\"\")\n",
    "plt.suptitle(\"\")\n",
    "plt.ylabel(\"RAM energy (J)\")\n",
    "plt.xlabel(\"Algorithm\")\n",
    "plt.savefig(\"energy_ram_boxplot.pdf\", format=\"pdf\", bbox_inches='tight')\n",
    "\n",
    "plt.rcParams.update({'font.size': 10})"
   ]
  },
  {
   "cell_type": "code",
   "execution_count": null,
   "metadata": {
    "colab": {
     "base_uri": "https://localhost:8080/",
     "height": 533
    },
    "id": "Hohl4IBYwWLo",
    "outputId": "e91905d6-d53e-4e95-84c6-cd09d9cf644a"
   },
   "outputs": [],
   "source": [
    "plt.rcParams.update({'font.size': 20})\n",
    "\n",
    "df.boxplot(column = \"energy_total\", by=\"alg_K\", positions = [13,14,1,3,2,0, 12,4,5,6,7,8,9,10,11],\n",
    "                                 figsize=(20,9.4)) # 10,5  14,8\n",
    "\n",
    "plt.title(\"\")\n",
    "plt.suptitle(\"\")\n",
    "plt.ylabel(\"Total energy (J)\")\n",
    "plt.xlabel(\"Algorithm\")\n",
    "plt.savefig(\"energy_total_boxplot.pdf\", format=\"pdf\", bbox_inches='tight')\n",
    "\n",
    "plt.rcParams.update({'font.size': 10})"
   ]
  },
  {
   "cell_type": "code",
   "execution_count": null,
   "metadata": {
    "colab": {
     "base_uri": "https://localhost:8080/",
     "height": 525
    },
    "id": "RluO-U-IqGfo",
    "outputId": "916d2d04-ade7-473d-bc55-24f6ebbec952"
   },
   "outputs": [],
   "source": [
    "df[df.algorithm==\"TK\"].boxplot(column = \"energy_total\", by=\"K\", figsize=(20,8))"
   ]
  },
  {
   "cell_type": "markdown",
   "metadata": {
    "id": "FtOhjNV5Angq"
   },
   "source": [
    "### test: total energy of SD vs other algorithmic approaches"
   ]
  },
  {
   "cell_type": "code",
   "execution_count": null,
   "metadata": {
    "colab": {
     "base_uri": "https://localhost:8080/"
    },
    "id": "bZwmKs9TqZNX",
    "outputId": "6a1e2355-54e9-406b-8239-a038580741d1"
   },
   "outputs": [],
   "source": [
    "E_bf1 = df[df.alg_K == \"SD\"].energy_total\n",
    "\n",
    "for a in df.alg_K.unique():\n",
    "  if a != \"SD\" and a != \"ESD\":\n",
    "    E_x = df[df.alg_K == a].energy_total\n",
    "    print(a, wilcoxon(E_bf1, E_x, alternative=\"greater\"))"
   ]
  },
  {
   "cell_type": "markdown",
   "metadata": {
    "id": "rXc8Pf8J0Uyw"
   },
   "source": [
    "### test: compare total energy of all algorithmic approaches"
   ]
  },
  {
   "cell_type": "code",
   "execution_count": null,
   "metadata": {
    "colab": {
     "base_uri": "https://localhost:8080/"
    },
    "id": "SOnvTMEh0a8S",
    "outputId": "5233cbcd-4dd4-4cd9-c371-55fe8b0f9ac3"
   },
   "outputs": [],
   "source": [
    "# first, including outliers\n",
    "alg_Ks = df.alg_K.unique()\n",
    "aa = [a for a in alg_Ks if not 'BF' in a]\n",
    "samples = [np.array(df[df.alg_K == a].energy_total) for a in aa]\n",
    "kruskal(*samples)"
   ]
  },
  {
   "cell_type": "code",
   "execution_count": null,
   "metadata": {
    "colab": {
     "base_uri": "https://localhost:8080/"
    },
    "id": "T4iHkrkB0a8S",
    "outputId": "934f4942-6f6d-42c5-e3de-bb36386e5b31"
   },
   "outputs": [],
   "source": [
    "# now without the outliers\n",
    "samples = []\n",
    "for a in aa:\n",
    "  x = df[df.alg_K == a].energy_gpu\n",
    "  x = x[(x <= x.median() + 1.5*(x.quantile(0.75)-x.quantile(0.25))) & (x >= x.median() - 1.5*(x.quantile(0.75)-x.quantile(0.25)))] # remove the outliers\n",
    "  samples.append(np.array(x))\n",
    "kruskal(*samples)"
   ]
  },
  {
   "cell_type": "code",
   "execution_count": null,
   "metadata": {
    "colab": {
     "base_uri": "https://localhost:8080/",
     "height": 1000
    },
    "id": "q37yH0i40a8T",
    "outputId": "7805195e-e8e0-4a1d-a34e-00186e3fa83e"
   },
   "outputs": [],
   "source": [
    "# post-hoc test\n",
    "p_values = sp.posthoc_dunn(df[~df.alg_K.str.contains('BF')], val_col = \"energy_total\", group_col = \"alg_K\", p_adjust='holm')\n",
    "sns.heatmap(p_values.sort_index(key = sort_algorithm).sort_index(key = sort_algorithm, axis=1)).get_figure().savefig(\n",
    "    \"energy_total_dunn.pdf\", format=\"pdf\", bbox_inches='tight')\n",
    "\n",
    "print(p_values)"
   ]
  },
  {
   "cell_type": "code",
   "execution_count": null,
   "metadata": {
    "colab": {
     "base_uri": "https://localhost:8080/",
     "height": 406
    },
    "id": "3xiXhzBa0a8T",
    "outputId": "85c2f4d5-fdcb-4d66-fcaa-75aad822073e"
   },
   "outputs": [],
   "source": [
    "# post-hoc test\n",
    "plt.figure(figsize=(4,4))\n",
    "p_values = sp.posthoc_dunn(df[~df.alg_K.str.contains('BF')], val_col = \"energy_total\", group_col = \"alg_K\", p_adjust='holm')\n",
    "\n",
    "sns.heatmap((p_values > 0.05).sort_index(key = sort_algorithm).sort_index(key = sort_algorithm, axis=1), cbar=False)"
   ]
  },
  {
   "cell_type": "markdown",
   "metadata": {
    "id": "QqPS02PPAriv"
   },
   "source": [
    "### test: compare GPU energy of all methods"
   ]
  },
  {
   "cell_type": "markdown",
   "metadata": {
    "id": "chvi0O0HGMp1"
   },
   "source": [
    "GPU is the component with the lowest contribution to the total energy. however, the motivation to test this is because all the boxplots for all algorithms look pretty similar"
   ]
  },
  {
   "cell_type": "code",
   "execution_count": null,
   "metadata": {
    "colab": {
     "base_uri": "https://localhost:8080/"
    },
    "id": "b_VMCFQiA5FC",
    "outputId": "717b73b8-57c3-4970-82f8-805637c7fb08"
   },
   "outputs": [],
   "source": [
    "# first, including outliers\n",
    "alg_Ks = df.alg_K.unique()\n",
    "samples = [np.array(df[df.alg_K == a].energy_gpu) for a in alg_Ks]\n",
    "kruskal(*samples)"
   ]
  },
  {
   "cell_type": "code",
   "execution_count": null,
   "metadata": {
    "colab": {
     "base_uri": "https://localhost:8080/"
    },
    "id": "2YSrQOGxCSCO",
    "outputId": "22d1bc98-fd86-4381-f862-37b5e91a548a"
   },
   "outputs": [],
   "source": [
    "# now without the outliers\n",
    "samples = []\n",
    "for a in alg_Ks:\n",
    "  x = df[df.alg_K == a].energy_gpu\n",
    "  x = x[(x <= x.median() + 1.5*(x.quantile(0.75)-x.quantile(0.25))) & (x >= x.median() - 1.5*(x.quantile(0.75)-x.quantile(0.25)))] # remove the outliers\n",
    "  samples.append(np.array(x))\n",
    "kruskal(*samples)"
   ]
  },
  {
   "cell_type": "code",
   "execution_count": null,
   "metadata": {
    "colab": {
     "base_uri": "https://localhost:8080/",
     "height": 1000
    },
    "id": "cbOadW5jFV7X",
    "outputId": "7e7b1b97-8721-4448-b5b4-4efbf8d2f2ba"
   },
   "outputs": [],
   "source": [
    "# post-hoc test\n",
    "p_values = sp.posthoc_dunn(df, val_col = \"energy_gpu\", group_col = \"alg_K\", p_adjust='holm')\n",
    "sns.heatmap(p_values.sort_index(key = sort_algorithm).sort_index(key = sort_algorithm, axis=1)).get_figure().savefig(\n",
    "    \"energy_gpu_dunn.pdf\", format=\"pdf\", bbox_inches='tight')\n",
    "\n",
    "print(p_values)"
   ]
  },
  {
   "cell_type": "code",
   "execution_count": null,
   "metadata": {
    "colab": {
     "base_uri": "https://localhost:8080/",
     "height": 473
    },
    "id": "Jx6-p0vPEkE3",
    "outputId": "52c88925-8fbc-41db-b524-9742f806e9f1"
   },
   "outputs": [],
   "source": [
    "# post-hoc test\n",
    "p_values = sp.posthoc_dunn(df, val_col = \"energy_gpu\", group_col = \"alg_K\", p_adjust='holm')\n",
    "sns.heatmap((p_values > 0.05).sort_index(key = sort_algorithm).sort_index(key = sort_algorithm, axis=1))"
   ]
  },
  {
   "cell_type": "code",
   "execution_count": null,
   "metadata": {
    "colab": {
     "base_uri": "https://localhost:8080/"
    },
    "id": "XdktehP6eg8g",
    "outputId": "c73bd111-ef0b-4343-dae4-b4363480a42c"
   },
   "outputs": [],
   "source": [
    "alg_Ks"
   ]
  },
  {
   "cell_type": "code",
   "execution_count": null,
   "metadata": {
    "colab": {
     "base_uri": "https://localhost:8080/"
    },
    "id": "BpBX5Up3QV28",
    "outputId": "6448c1d8-fd07-4c3b-e7a6-97a8e5403728"
   },
   "outputs": [],
   "source": [
    "# check maximal set:\n",
    "alg_Ks = ['IA', 'CPA', 'CPS', 'CPP', 'SD', 'ESD', 'TK2', 'TK3', 'TK4', 'TK5', 'TK6', 'TK7', 'TK8', 'TK9', 'TK10']\n",
    "alg_Ks = ['CPS', 'CPP', 'TK2', 'TK3', 'TK4', 'TK5', 'TK6', 'TK7', 'TK8']\n",
    "samples = [np.array(df[df.alg_K == a].energy_gpu) for a in alg_Ks]\n",
    "kruskal(*samples)\n"
   ]
  },
  {
   "cell_type": "markdown",
   "metadata": {
    "id": "edG7oDKIpv0M"
   },
   "source": [
    "# Multivariate analysis"
   ]
  },
  {
   "cell_type": "markdown",
   "metadata": {
    "id": "FgZED0mnbsqw"
   },
   "source": [
    "## at algorithm level"
   ]
  },
  {
   "cell_type": "code",
   "execution_count": null,
   "metadata": {
    "colab": {
     "base_uri": "https://localhost:8080/",
     "height": 206
    },
    "id": "xPAdiC7bFHuF",
    "outputId": "ed6b1f20-4499-4db5-8dd4-be9367e5ab04"
   },
   "outputs": [],
   "source": [
    "d = df.groupby('alg_K').agg({'correct_squares':'mean', 'correct':'mean', 'prediction_time':'mean', 'energy_total':'mean'}).sort_index(\n",
    "    key = sort_algorithm).rename(columns = {'correct_squares':'Square accuracy', 'correct': 'Board accuracy', 'prediction_time': 'Prediction time (s)',\n",
    "                                            'energy_total': 'Total energy (J)'})\n",
    "d['Square accuracy'] = d['Square accuracy'] / 64\n",
    "d['File size (MiB)'] = d.index.map(lambda x: 1 if x in ['IA', 'SD', 'CPA']\n",
    "                          else (2 if x in ['CPS', 'CPP'] or x.startswith('TK')\n",
    "                          else 3)) * 249\n",
    "d.corr()"
   ]
  },
  {
   "cell_type": "code",
   "execution_count": null,
   "metadata": {
    "colab": {
     "base_uri": "https://localhost:8080/",
     "height": 551
    },
    "id": "ms5S7h8iGrfh",
    "outputId": "7efd32ea-0760-4806-bc4f-7746c34fa0a3"
   },
   "outputs": [],
   "source": [
    "d"
   ]
  },
  {
   "cell_type": "code",
   "execution_count": null,
   "metadata": {
    "colab": {
     "base_uri": "https://localhost:8080/",
     "height": 956
    },
    "id": "fkfEkmOZUYub",
    "outputId": "4caf6092-6a59-4c57-e371-78a99567847c"
   },
   "outputs": [],
   "source": [
    "markers = ['o', 's', 'D', '^', 'v', '<', '>', 'p', '*', 'h', 'H', 'X', 'P', 'd', '8']\n",
    "palette = sns.color_palette(\"husl\", len(d))  # Generates a color palette\n",
    "\n",
    "# Create a list of metrics for the scatter plot (including 'size')\n",
    "metrics = ['Board accuracy', 'Prediction time (s)', 'Total energy (J)', 'File size (MiB)']\n",
    "\n",
    "# Initialize the figure and create the triangular grid\n",
    "fig, axes = plt.subplots(3, 3, figsize=(10, 10))\n",
    "\n",
    "# Plot scatter plots only in the lower-left triangle\n",
    "for i in range(1, 4):  # Rows (from time down to size)\n",
    "    for j in range(i):  # Columns (correct to the leftmost position)\n",
    "        ax = axes[i-1, j]  # Use i-1 because row 1 starts at index 0\n",
    "        for idx, (alg, row) in enumerate(d.iterrows()):\n",
    "            # Add jitter to avoid exact overlap\n",
    "            jitter_x = np.random.normal(0,0)# 0.01)\n",
    "            jitter_y = np.random.normal(0,0)# 0.01)\n",
    "            ax.scatter(row[metrics[j]] + jitter_x, row[metrics[i]] + jitter_y,\n",
    "                       label=alg, marker=markers[idx], s=100,\n",
    "                       c=[palette[idx]], alpha=0.7, edgecolor='black', linewidth=0.5)  # Add transparency and border\n",
    "\n",
    "        if i == 3:  # Bottom row should have X-axis labels\n",
    "            ax.set_xlabel(metrics[j])\n",
    "        if j == 0:  # Leftmost column should have Y-axis labels\n",
    "            ax.set_ylabel(metrics[i])\n",
    "\n",
    "# Remove upper-right plots and use that space for the legend\n",
    "for i in range(3):\n",
    "    for j in range(i+1, 3):\n",
    "        fig.delaxes(axes[i, j])\n",
    "\n",
    "# Add a single legend in the empty space in the upper-right corner\n",
    "handles, labels = ax.get_legend_handles_labels()\n",
    "#fig.legend(handles, labels, loc='upper center', ncol=5, title='Algorithm')\n",
    "ax5 = fig.add_subplot(3, 3, 2)\n",
    "ax5.legend(handles=handles, labels=labels,\n",
    "           fontsize=10, ncol=3, loc='center',\n",
    "           frameon=True, title = \"Algorithm\")\n",
    "ax5.axis('off')\n",
    "\n",
    "# Adjust layout and spacing\n",
    "plt.tight_layout(rect=[0, 0, 1, 0.95])  # Leave space for the legend at the top\n",
    "#plt.show()\n",
    "\n",
    "plt.savefig(\"multi_algorithms_scatter.pdf\", format=\"pdf\", bbox_inches='tight')"
   ]
  },
  {
   "cell_type": "code",
   "execution_count": null,
   "metadata": {
    "colab": {
     "base_uri": "https://localhost:8080/",
     "height": 395
    },
    "id": "ZH0KDh4bFUB9",
    "outputId": "27807fbe-236d-4a3a-9157-5166b9ee7983"
   },
   "outputs": [],
   "source": [
    "markers = ['o', 's', 'D', '^', 'v', '<', '>', 'p', '*', 'h', 'H', 'X', 'P', 'd', '8']\n",
    "palette = sns.color_palette(\"husl\", len(d))  # Generates a color palette\n",
    "\n",
    "# Create a list of metrics for the scatter plot (including 'size')\n",
    "metrics = ['Prediction time (s)', 'Total energy (J)']\n",
    "\n",
    "# Initialize the figure and create the triangular grid\n",
    "fig, axes = plt.subplots(1, 1, figsize=(5, 4))\n",
    "\n",
    "# Plot scatter plots only in the lower-left triangle\n",
    "i = 1\n",
    "j = 0\n",
    "ax = axes#[j]\n",
    "for idx, (alg, row) in enumerate(d.iterrows()):\n",
    "    # Add jitter to avoid exact overlap\n",
    "    jitter_x = np.random.normal(0,0)# 0.01)\n",
    "    jitter_y = np.random.normal(0,0)# 0.01)\n",
    "    plt.scatter(row[metrics[j]] + jitter_x, row[metrics[i]] + jitter_y,\n",
    "                label=alg, marker=markers[idx], s=100,\n",
    "                c=[palette[idx]], alpha=0.7, edgecolor='black', linewidth=0.5)  # Add transparency and border\n",
    "\n",
    "plt.xlabel(metrics[j])\n",
    "plt.ylabel(metrics[i])\n",
    "\n",
    "\n",
    "# Add a single legend in the empty space in the upper-right corner\n",
    "handles, labels = ax.get_legend_handles_labels()\n",
    "plt.legend(loc='center left', bbox_to_anchor=(1, 0.5), title = \"Algorithm\")\n",
    "\n",
    "# Adjust layout and spacing\n",
    "plt.tight_layout(rect=[0, 0, 1, 0.95])  # Leave space for the legend at the top\n",
    "#plt.show()\n",
    "\n",
    "plt.savefig(\"multi_algorithms_scatter_one.pdf\", format=\"pdf\", bbox_inches='tight')\n",
    "plt.savefig(\"multi_algorithms_scatter_one.png\", format=\"png\", bbox_inches='tight', transparent=True)"
   ]
  },
  {
   "cell_type": "code",
   "execution_count": null,
   "metadata": {
    "colab": {
     "base_uri": "https://localhost:8080/",
     "height": 582
    },
    "id": "wC3apwKrg8TN",
    "outputId": "76428000-4a61-46e5-97a1-604b7c9b6dcb"
   },
   "outputs": [],
   "source": [
    "d1 = df.groupby('alg_K').agg({'correct_squares':['mean','median'], 'correct':'mean', 'prediction_time':['mean','median'], 'energy_total':['mean','median']}).sort_index(\n",
    "    key = sort_algorithm).rename(columns = {'correct_squares':'Square accuracy', 'correct': 'Board accuracy', 'prediction_time': 'Prediction time (s)',\n",
    "                                            'energy_total': 'Total energy (J)'})\n",
    "d1['Square accuracy'] = d1['Square accuracy'] / 64\n",
    "d1['File size (MiB)'] = d1.index.map(lambda x: 1 if x in ['IA', 'SD', 'CPA']\n",
    "                          else (2 if x in ['CPS', 'CPP'] or x.startswith('TK')\n",
    "                          else 3)) * 249\n",
    "d1"
   ]
  },
  {
   "cell_type": "markdown",
   "metadata": {
    "id": "zNPvngPGlMoj"
   },
   "source": [
    "## at sample level"
   ]
  },
  {
   "cell_type": "code",
   "execution_count": null,
   "metadata": {
    "colab": {
     "base_uri": "https://localhost:8080/"
    },
    "id": "0pcpfRGJE195",
    "outputId": "6c4b44f1-9dee-45b6-bcd4-e5569918eaa6"
   },
   "outputs": [],
   "source": [
    "for alg in ['IA', 'CPA', 'CPP', 'CPS', 'TK2', 'TK3', 'TK4', 'TK5', 'TK6', 'TK7', 'TK8', 'TK9', 'TK10', 'SD', 'ESD']:\n",
    "  print(alg)\n",
    "  d = df[df.alg_K == alg]\n",
    "  print(np.corrcoef(d.energy_total, d.prediction_time)[0,1])"
   ]
  },
  {
   "cell_type": "code",
   "execution_count": null,
   "metadata": {
    "colab": {
     "base_uri": "https://localhost:8080/",
     "height": 1000
    },
    "id": "71UP5_FFgk_y",
    "outputId": "70354cdd-4db7-41a2-a348-b27a0661569b"
   },
   "outputs": [],
   "source": [
    "legend = True\n",
    "for alg in ['IA', 'CPA', 'CPP', 'CPS', 'TK2', 'TK3', 'TK4', 'TK5', 'TK6', 'TK7', 'TK8', 'TK9', 'TK10']:\n",
    "  for legend in [True, False]:\n",
    "    #print(alg)\n",
    "    plt.figure()\n",
    "    d = df[df.alg_K == alg]\n",
    "    alpha = 0.5 if alg in ['IA', 'CPA'] else 1\n",
    "\n",
    "    plt.scatter(x=d[d.correct].prediction_time, y=d[d.correct].energy_total,\n",
    "                c='blue', s=1, alpha=0.1, label='Correct')\n",
    "    plt.scatter(x=d[~d.correct].prediction_time, y=d[~d.correct].energy_total,\n",
    "                c='orange', s=1, alpha=alpha, label='Incorrect')\n",
    "    plt.xlabel(\"Time (s)\")\n",
    "    plt.ylabel(\"Energy (J)\")\n",
    "\n",
    "    if legend:\n",
    "      leg = plt.legend(loc = \"lower right\")\n",
    "      leg.legend_handles[0]._sizes = [30]\n",
    "      leg.legend_handles[1]._sizes = [30]\n",
    "\n",
    "    name = f\"multi_{alg}_\" + (\"legend\" if legend else \"noLegend\") + \".pdf\"\n",
    "    plt.savefig(name, format=\"pdf\", bbox_inches='tight')\n",
    "    plt.savefig(name.replace(\".pdf\", \".png\"), format=\"png\", bbox_inches='tight', transparent=True)"
   ]
  },
  {
   "cell_type": "code",
   "execution_count": null,
   "metadata": {
    "colab": {
     "base_uri": "https://localhost:8080/",
     "height": 1000
    },
    "id": "GDVyFSz9oNgU",
    "outputId": "2ee24069-0cf8-4962-8d59-4cd3680c97b3"
   },
   "outputs": [],
   "source": [
    "legend = True\n",
    "for alg in ['IA', 'CPA', 'CPP', 'CPS', 'TK2', 'TK3', 'TK4', 'TK5', 'TK6', 'TK7', 'TK8', 'TK9', 'TK10']:\n",
    "  for legend in [True, False]:\n",
    "    #print(alg)\n",
    "    plt.figure(figsize = (4,3))\n",
    "    d = df[df.alg_K == alg]\n",
    "    alpha = 0.5 if alg in ['IA', 'CPA'] else 1\n",
    "\n",
    "    plt.scatter(x=d[d.correct].prediction_time, y=d[d.correct].energy_total,\n",
    "                c='blue', s=0.5, alpha=0.1, label='Correct')\n",
    "    plt.scatter(x=d[~d.correct].prediction_time, y=d[~d.correct].energy_total,\n",
    "                c='orange', s=0.5, alpha=alpha, label='Incorrect')\n",
    "    plt.xlabel(\"Time (s)\")\n",
    "    plt.ylabel(\"Energy (J)\")\n",
    "    #plt.xlim((0, 1.2))\n",
    "    #plt.ylim((15,55))\n",
    "\n",
    "    if legend:\n",
    "      leg = plt.legend(loc = \"lower right\")\n",
    "      leg.legend_handles[0]._sizes = [30]\n",
    "      leg.legend_handles[1]._sizes = [30]\n",
    "\n",
    "    name = f\"multi_{alg}_\" + (\"legend\" if legend else \"noLegend\") + \"_v2.pdf\"\n",
    "    #name = f\"multi_{alg}_\" + (\"legend\" if legend else \"noLegend\") + \"_commonLimits.pdf\"\n",
    "    plt.savefig(name, format=\"pdf\", bbox_inches='tight')"
   ]
  },
  {
   "cell_type": "code",
   "execution_count": null,
   "metadata": {
    "colab": {
     "base_uri": "https://localhost:8080/",
     "height": 887
    },
    "id": "F5KvSZssnYzi",
    "outputId": "05907561-6f37-4d2e-dc74-fc4e7410a165"
   },
   "outputs": [],
   "source": [
    "for alg in ['SD', 'ESD']:\n",
    "  d = df[df.alg_K == alg]\n",
    "  plt.figure()\n",
    "\n",
    "  plt.scatter(x=d.prediction_time, y=d.energy_total, c=d.correct_squares, s=1, alpha=0.5)\n",
    "  plt.colorbar()\n",
    "  plt.xlabel(\"Time (s)\")\n",
    "  plt.ylabel(\"Energy (J)\")\n",
    "\n",
    "  name = f\"multi_{alg}.pdf\"\n",
    "  plt.savefig(name, format=\"pdf\", bbox_inches='tight')\n",
    "  plt.savefig(name.replace(\".pdf\", \".png\"), format=\"png\", bbox_inches='tight', transparent=True)"
   ]
  },
  {
   "cell_type": "code",
   "execution_count": null,
   "metadata": {
    "colab": {
     "base_uri": "https://localhost:8080/",
     "height": 610
    },
    "id": "SILlkHRJhYMP",
    "outputId": "fb9bce4f-2669-494f-e4d5-6cdadef70130"
   },
   "outputs": [],
   "source": [
    "for alg in ['SD', 'ESD']:\n",
    "  d = df[df.alg_K == alg]\n",
    "  #d = d[d.prediction_time]\n",
    "  plt.figure(figsize = (4,3))\n",
    "\n",
    "  plt.scatter(x=d.prediction_time, y=d.energy_total, c=d.correct_squares, s=0.3, alpha=0.5)\n",
    "  plt.colorbar()\n",
    "  plt.xlabel(\"Time (s)\")\n",
    "  plt.ylabel(\"Energy (J)\")\n",
    "\n",
    "  name = f\"multi_{alg}_v2.pdf\"\n",
    "  plt.savefig(name, format=\"pdf\", bbox_inches='tight')"
   ]
  },
  {
   "cell_type": "markdown",
   "metadata": {
    "id": "GoZuuRF04XOb"
   },
   "source": [
    "# Other variables"
   ]
  },
  {
   "cell_type": "code",
   "execution_count": null,
   "metadata": {
    "id": "lGP7hrk9A_8M"
   },
   "outputs": [],
   "source": [
    "import statsmodels.api as sm"
   ]
  },
  {
   "cell_type": "code",
   "execution_count": null,
   "metadata": {
    "colab": {
     "base_uri": "https://localhost:8080/"
    },
    "id": "DR2Q0viGBYnf",
    "outputId": "c3393082-137d-432f-910e-00362b94c51d"
   },
   "outputs": [],
   "source": [
    "df.columns"
   ]
  },
  {
   "cell_type": "code",
   "execution_count": null,
   "metadata": {
    "colab": {
     "base_uri": "https://localhost:8080/"
    },
    "id": "1BUrbQ0NBnhT",
    "outputId": "321897a7-02f8-45ee-e4cc-5b4ca9990ff5"
   },
   "outputs": [],
   "source": [
    "df['pieces_total'] = df.pieces_white + df.pieces_black\n",
    "df['pieces_turn'] = np.where(df.turn==\"white\", df.pieces_white, df.pieces_black)\n",
    "df['turn_binary'] = df.turn.map({'white':1, 'black':0})\n",
    "df['correctness'] = np.where(df.alg_K.str.contains('BF'), df.correct_squares/64, 1*df.correct)"
   ]
  },
  {
   "cell_type": "markdown",
   "metadata": {
    "id": "ivRsk_rrL68m"
   },
   "source": [
    "## table of correlations"
   ]
  },
  {
   "cell_type": "code",
   "execution_count": null,
   "metadata": {
    "colab": {
     "base_uri": "https://localhost:8080/",
     "height": 613
    },
    "id": "7uGQ4uCXMedT",
    "outputId": "3c3138b3-b3d1-4ae4-bdb6-334af785e690"
   },
   "outputs": [],
   "source": [
    "tbl = pd.DataFrame()\n",
    "tbls = []\n",
    "#for alg in ['IA', 'CPS', 'TK3', 'ESD']:\n",
    "for alg in df.alg_K.unique():\n",
    "  d = df[df.alg_K == alg]\n",
    "  for v1 in ['prediction_time', 'correctness']:\n",
    "    method = 'spearman' if (v1=='correctness' and not 'BF' in alg) else 'pearson'\n",
    "    cor = d[['legal_moves', 'pieces_turn', 'pieces_total']].corrwith(d[v1], method=method)\n",
    "    cor = pd.DataFrame(cor, columns = [\"c\"]).reset_index()\n",
    "    cor.rename(columns={'index':'var'}, inplace=True)\n",
    "    cor['metric'] = v1\n",
    "    cor['alg'] = alg\n",
    "    tbls.append(cor)\n",
    "\n",
    "tbl = pd.concat(tbls)\n",
    "tbl = tbl.pivot(columns = ['metric', 'var'], index = ['alg'], values = ['c'])\n",
    "tbl\n",
    "\n"
   ]
  },
  {
   "cell_type": "code",
   "execution_count": null,
   "metadata": {
    "colab": {
     "base_uri": "https://localhost:8080/"
    },
    "id": "f_YOjZr3XH8p",
    "outputId": "35027e61-3710-48bc-c9be-640dbc67aa99"
   },
   "outputs": [],
   "source": [
    "df.pieces_white.corr(df.pieces_black)\n",
    "# problem: very strong correlation between number of white and black pieces\n",
    "# this means that columns of 'pieces_turn' and 'pieces_total' in the previous table are essentially the same"
   ]
  },
  {
   "cell_type": "code",
   "execution_count": null,
   "metadata": {
    "colab": {
     "base_uri": "https://localhost:8080/",
     "height": 822
    },
    "id": "bsY1I1FJYOnJ",
    "outputId": "f116d6c0-161e-4849-b720-f853c12bbfd7"
   },
   "outputs": [],
   "source": [
    "df['from_color'] = df.true_move_uci.apply(lambda x: (ord(x[0])+int(x[1])) % 2) # 1 if white, 0 if black\n",
    "df['to_color'] = df.true_move_uci.apply(lambda x: (ord(x[2])+int(x[3])) % 2) # 1 if white, 0 if black\n",
    "df.groupby(['turn', 'from_color', 'to_color', 'alg_K']).agg({'correctness':'mean'}).reset_index().pivot(index = 'alg_K', values = 'correctness', columns = ['turn', 'from_color', 'to_color'])"
   ]
  }
 ],
 "metadata": {
  "colab": {
   "collapsed_sections": [
    "rDLVnZWUSXdy",
    "haGrQlkASauu",
    "Sa9qTOiYB_YY"
   ],
   "provenance": [],
   "toc_visible": true
  },
  "kernelspec": {
   "display_name": ".venv",
   "language": "python",
   "name": "python3"
  },
  "language_info": {
   "codemirror_mode": {
    "name": "ipython",
    "version": 3
   },
   "file_extension": ".py",
   "mimetype": "text/x-python",
   "name": "python",
   "nbconvert_exporter": "python",
   "pygments_lexer": "ipython3",
   "version": "3.11.10"
  }
 },
 "nbformat": 4,
 "nbformat_minor": 0
}
